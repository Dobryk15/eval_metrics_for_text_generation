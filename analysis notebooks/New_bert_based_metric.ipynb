{
 "cells": [
  {
   "cell_type": "code",
   "execution_count": 1,
   "id": "04f3b76a",
   "metadata": {},
   "outputs": [],
   "source": [
    "import os\n",
    "import string\n",
    "import pickle\n",
    "import pandas as pd\n",
    "import numpy as np\n",
    "import torch"
   ]
  },
  {
   "cell_type": "code",
   "execution_count": 3,
   "id": "212a0694",
   "metadata": {},
   "outputs": [],
   "source": [
    "# WMT 15\n",
    "\n",
    "data_folder = os.path.join(os.pardir, 'data', 'wmt15', 'de-en')\n",
    "\n",
    "mt_txt_path = os.path.join(data_folder, 'newstest2015.mt-system.de-en')\n",
    "human_score_path = os.path.join(data_folder, 'newstest2015.human.de-en')\n",
    "ref_txt_path = os.path.join(data_folder, 'newstest2015.reference.de-en')\n",
    "bleu_score_path = os.path.join(data_folder, 'newstest2015.sbleumoses.de-en')\n",
    "srs_path = os.path.join(data_folder, 'newstest2015.source.de-en')\n",
    "\n",
    "with open(ref_txt_path) as f:\n",
    "    ref_snts_15 = f.read().splitlines()\n",
    "\n",
    "with open(srs_path) as f:\n",
    "    src_snts_15 = f.read().splitlines()\n",
    "\n",
    "with open(mt_txt_path) as f:\n",
    "    mt_snts_15 = f.read().splitlines()\n",
    "\n",
    "with open(human_score_path) as f:\n",
    "    da_scores_15 = f.read().splitlines()\n",
    "    da_scores_15 = [float(s) for s in da_scores_15]\n",
    "\n",
    "with open(bleu_score_path) as f:\n",
    "    sbleu_scores_15 = f.read().splitlines()\n",
    "    sbleu_scores_15 = [float(s) for s in sbleu_scores_15]"
   ]
  },
  {
   "cell_type": "code",
   "execution_count": 4,
   "id": "daa41bd1",
   "metadata": {},
   "outputs": [],
   "source": [
    "# WMT 16\n",
    "\n",
    "data_folder = os.path.join(os.pardir, 'data', 'wmt16')\n",
    "\n",
    "mt_txt_path_16 = os.path.join(data_folder, 'DAseg.newstest2016.mt-system.de-en')\n",
    "human_score_path_16 = os.path.join(data_folder, 'DAseg.newstest2016.human.de-en')\n",
    "ref_txt_path_16 = os.path.join(data_folder, 'DAseg.newstest2016.reference.de-en')\n",
    "srs_path_16 = os.path.join(data_folder, 'DAseg.newstest2016.source.de-en')\n",
    "\n",
    "with open(ref_txt_path_16) as f:\n",
    "    ref_snts_16 = f.read().splitlines()\n",
    "\n",
    "with open(srs_path_16) as f:\n",
    "    src_snts_16 = f.read().splitlines()\n",
    "\n",
    "with open(mt_txt_path_16) as f:\n",
    "    mt_snts_16 = f.read().splitlines()\n",
    "\n",
    "with open(human_score_path_16) as f:\n",
    "    da_scores_16 = f.read().splitlines()\n",
    "    da_scores_16 = [float(s) for s in da_scores_16]"
   ]
  },
  {
   "cell_type": "code",
   "execution_count": 5,
   "id": "4a53a89a",
   "metadata": {},
   "outputs": [],
   "source": [
    "# WMT 21\n",
    "\n",
    "wmt_data_folder = '../data/wmt21/preprocessed_data'\n",
    "\n",
    "ref_path = os.path.join(wmt_data_folder, 'all_ref_snts_21.pickle')\n",
    "mt_path = os.path.join(wmt_data_folder, 'all_mt_snts_21.pickle')\n",
    "srs_path = os.path.join(wmt_data_folder, 'all_src_snts_21.pickle')\n",
    "mqm_scores_path = os.path.join(wmt_data_folder, 'all_z_mqm_scores.pickle')\n",
    "    \n",
    "with open(ref_path, 'rb') as fp:\n",
    "    ref_snts = pickle.load(fp)\n",
    "\n",
    "with open(mt_path, 'rb') as fp:\n",
    "    mt_snts = pickle.load(fp)\n",
    "\n",
    "with open(mqm_scores_path, 'rb') as fp:\n",
    "    human_scores = pickle.load(fp)\n",
    "\n",
    "with open(srs_path, 'rb') as fp:\n",
    "    src_snts = pickle.load(fp)\n",
    "\n",
    "preproc_data_path = \"../data/wmt21/preprocessed_data/wmt21_preprocessed_full_data.tsv\"\n",
    "full_mqm21_df = pd.read_csv(preproc_data_path, sep='\\t')"
   ]
  },
  {
   "cell_type": "code",
   "execution_count": 6,
   "id": "319d839f",
   "metadata": {},
   "outputs": [
    {
     "data": {
      "text/plain": [
       "['Accuracy/Mistranslation',\n",
       " 'Accuracy/Untranslated',\n",
       " 'Style/Awkward',\n",
       " 'Fluency/Punctuation',\n",
       " 'Other',\n",
       " 'Accuracy/Omission',\n",
       " 'No-error',\n",
       " 'Terminology/Inappropriate',\n",
       " 'Fluency/Grammar',\n",
       " 'Fluency/Inconsistency',\n",
       " 'Fluency/Spelling',\n",
       " 'Fluency/Display',\n",
       " 'Fluency/Register',\n",
       " 'Accuracy/Addition',\n",
       " 'Source_error',\n",
       " 'Terminology/Inconsistent',\n",
       " 'Locale_convention/Currency',\n",
       " 'Locale_convention/Date',\n",
       " 'Locale_convention/Time']"
      ]
     },
     "execution_count": 6,
     "metadata": {},
     "output_type": "execute_result"
    }
   ],
   "source": [
    "full_mqm21_df.category.unique().tolist()"
   ]
  },
  {
   "cell_type": "code",
   "execution_count": 77,
   "id": "b9b8a978",
   "metadata": {},
   "outputs": [
    {
     "data": {
      "text/plain": [
       "['Fluency',\n",
       " 'Other',\n",
       " 'Terminology',\n",
       " 'Source_error',\n",
       " 'Style',\n",
       " 'No-error',\n",
       " 'Locale_convention',\n",
       " 'Accuracy']"
      ]
     },
     "execution_count": 77,
     "metadata": {},
     "output_type": "execute_result"
    }
   ],
   "source": [
    "metrics = list(set([c.split('/')[0] for c in full_mqm21_df.category.unique()]))\n",
    "metrics"
   ]
  },
  {
   "cell_type": "code",
   "execution_count": 93,
   "id": "6f2f9378",
   "metadata": {},
   "outputs": [],
   "source": [
    "full_mqm21_df['supercategory'] = full_mqm21_df.category.apply(lambda c: c.split('/')[0])"
   ]
  },
  {
   "cell_type": "code",
   "execution_count": 83,
   "id": "5c6a14e5",
   "metadata": {
    "scrolled": false
   },
   "outputs": [
    {
     "data": {
      "text/plain": [
       "<AxesSubplot:>"
      ]
     },
     "execution_count": 83,
     "metadata": {},
     "output_type": "execute_result"
    },
    {
     "data": {
      "image/png": "[encoded data removed]",
      "text/plain": [
       "<Figure size 1152x720 with 1 Axes>"
      ]
     },
     "metadata": {
      "needs_background": "light"
     },
     "output_type": "display_data"
    }
   ],
   "source": [
    "full_mqm21_df.supercategory.hist(figsize=(16, 10))"
   ]
  },
  {
   "cell_type": "code",
   "execution_count": 94,
   "id": "085ffad8",
   "metadata": {
    "scrolled": true
   },
   "outputs": [],
   "source": [
    "# full_mqm21_df.drop_duplicates(subset=['mt_output'])\n",
    "for c in full_mqm21_df.supercategory.unique():\n",
    "    suf = ''\n",
    "    if not ('error' in c):\n",
    "        suf = '_error'\n",
    "    full_mqm21_df[c+suf] = full_mqm21_df.supercategory.apply(lambda x: 1 if x == c else 0)"
   ]
  },
  {
   "cell_type": "code",
   "execution_count": 95,
   "id": "36ea2085",
   "metadata": {},
   "outputs": [],
   "source": [
    "mqm21_sub_df = full_mqm21_df[full_mqm21_df.supercategory.isin(['Fluency','Terminology','Style',\n",
    "                                                               'No-error','Accuracy'])]"
   ]
  },
  {
   "cell_type": "code",
   "execution_count": 97,
   "id": "5882b792",
   "metadata": {
    "scrolled": true
   },
   "outputs": [
    {
     "data": {
      "text/html": [
       "<div>\n",
       "<style scoped>\n",
       "    .dataframe tbody tr th:only-of-type {\n",
       "        vertical-align: middle;\n",
       "    }\n",
       "\n",
       "    .dataframe tbody tr th {\n",
       "        vertical-align: top;\n",
       "    }\n",
       "\n",
       "    .dataframe thead th {\n",
       "        text-align: right;\n",
       "    }\n",
       "</style>\n",
       "<table border=\"1\" class=\"dataframe\">\n",
       "  <thead>\n",
       "    <tr style=\"text-align: right;\">\n",
       "      <th></th>\n",
       "      <th>mt_output</th>\n",
       "      <th>reference</th>\n",
       "      <th>z_mqm_score</th>\n",
       "      <th>Fluency_error</th>\n",
       "      <th>Terminology_error</th>\n",
       "      <th>Style_error</th>\n",
       "      <th>No-error</th>\n",
       "      <th>Accuracy_error</th>\n",
       "      <th>severity</th>\n",
       "    </tr>\n",
       "  </thead>\n",
       "  <tbody>\n",
       "    <tr>\n",
       "      <th>0</th>\n",
       "      <td>Paar MACED im kalifornischen Hundepark, weil e...</td>\n",
       "      <td>Angriff mit Pfefferspray auf ein Paar in einem...</td>\n",
       "      <td>-0.013807</td>\n",
       "      <td>0</td>\n",
       "      <td>0</td>\n",
       "      <td>0</td>\n",
       "      <td>0</td>\n",
       "      <td>1</td>\n",
       "      <td>Major</td>\n",
       "    </tr>\n",
       "    <tr>\n",
       "      <th>1</th>\n",
       "      <td>Paar MACED im kalifornischen Hundepark, weil e...</td>\n",
       "      <td>Angriff mit Pfefferspray auf ein Paar in einem...</td>\n",
       "      <td>-0.858404</td>\n",
       "      <td>0</td>\n",
       "      <td>0</td>\n",
       "      <td>0</td>\n",
       "      <td>0</td>\n",
       "      <td>1</td>\n",
       "      <td>Major</td>\n",
       "    </tr>\n",
       "    <tr>\n",
       "      <th>2</th>\n",
       "      <td>Paar MACED im kalifornischen Hundepark für das...</td>\n",
       "      <td>Angriff mit Pfefferspray auf ein Paar in einem...</td>\n",
       "      <td>-1.182732</td>\n",
       "      <td>0</td>\n",
       "      <td>0</td>\n",
       "      <td>1</td>\n",
       "      <td>0</td>\n",
       "      <td>0</td>\n",
       "      <td>Minor</td>\n",
       "    </tr>\n",
       "    <tr>\n",
       "      <th>3</th>\n",
       "      <td>Paar MACED im kalifornischen Hundepark für das...</td>\n",
       "      <td>Angriff mit Pfefferspray auf ein Paar in einem...</td>\n",
       "      <td>-1.182732</td>\n",
       "      <td>0</td>\n",
       "      <td>0</td>\n",
       "      <td>0</td>\n",
       "      <td>0</td>\n",
       "      <td>1</td>\n",
       "      <td>Major</td>\n",
       "    </tr>\n",
       "    <tr>\n",
       "      <th>4</th>\n",
       "      <td>Paar MACED in Kalifornien Hundepark für nicht ...</td>\n",
       "      <td>Angriff mit Pfefferspray auf ein Paar in einem...</td>\n",
       "      <td>-0.561254</td>\n",
       "      <td>0</td>\n",
       "      <td>0</td>\n",
       "      <td>0</td>\n",
       "      <td>0</td>\n",
       "      <td>1</td>\n",
       "      <td>Major</td>\n",
       "    </tr>\n",
       "    <tr>\n",
       "      <th>...</th>\n",
       "      <td>...</td>\n",
       "      <td>...</td>\n",
       "      <td>...</td>\n",
       "      <td>...</td>\n",
       "      <td>...</td>\n",
       "      <td>...</td>\n",
       "      <td>...</td>\n",
       "      <td>...</td>\n",
       "      <td>...</td>\n",
       "    </tr>\n",
       "    <tr>\n",
       "      <th>8345</th>\n",
       "      <td>Wiley, bekannt als Godfather of Grime und mit ...</td>\n",
       "      <td>Wiley, bekannt als „Godfather of Grime“, desse...</td>\n",
       "      <td>0.342346</td>\n",
       "      <td>0</td>\n",
       "      <td>0</td>\n",
       "      <td>1</td>\n",
       "      <td>0</td>\n",
       "      <td>0</td>\n",
       "      <td>Minor</td>\n",
       "    </tr>\n",
       "    <tr>\n",
       "      <th>8346</th>\n",
       "      <td>Wiley, bekannt als der Pate des Schmutzes und ...</td>\n",
       "      <td>Wiley, bekannt als „Godfather of Grime“, desse...</td>\n",
       "      <td>0.080083</td>\n",
       "      <td>0</td>\n",
       "      <td>0</td>\n",
       "      <td>1</td>\n",
       "      <td>0</td>\n",
       "      <td>0</td>\n",
       "      <td>Major</td>\n",
       "    </tr>\n",
       "    <tr>\n",
       "      <th>8347</th>\n",
       "      <td>Wiley, bekannt als Godfather of Grime und mit ...</td>\n",
       "      <td>Wiley, bekannt als „Godfather of Grime“, desse...</td>\n",
       "      <td>0.709702</td>\n",
       "      <td>0</td>\n",
       "      <td>0</td>\n",
       "      <td>0</td>\n",
       "      <td>1</td>\n",
       "      <td>0</td>\n",
       "      <td>No-error</td>\n",
       "    </tr>\n",
       "    <tr>\n",
       "      <th>8348</th>\n",
       "      <td>Wiley, bekannt als Godfather of Grime und mit ...</td>\n",
       "      <td>Wiley, bekannt als „Godfather of Grime“, desse...</td>\n",
       "      <td>0.326909</td>\n",
       "      <td>0</td>\n",
       "      <td>0</td>\n",
       "      <td>0</td>\n",
       "      <td>1</td>\n",
       "      <td>0</td>\n",
       "      <td>No-error</td>\n",
       "    </tr>\n",
       "    <tr>\n",
       "      <th>8349</th>\n",
       "      <td>Wiley, der als Pate von Grime bekannt ist und ...</td>\n",
       "      <td>Wiley, bekannt als „Godfather of Grime“, desse...</td>\n",
       "      <td>0.080083</td>\n",
       "      <td>0</td>\n",
       "      <td>1</td>\n",
       "      <td>0</td>\n",
       "      <td>0</td>\n",
       "      <td>0</td>\n",
       "      <td>Major</td>\n",
       "    </tr>\n",
       "  </tbody>\n",
       "</table>\n",
       "<p>8238 rows × 9 columns</p>\n",
       "</div>"
      ],
      "text/plain": [
       "                                              mt_output  \\\n",
       "0     Paar MACED im kalifornischen Hundepark, weil e...   \n",
       "1     Paar MACED im kalifornischen Hundepark, weil e...   \n",
       "2     Paar MACED im kalifornischen Hundepark für das...   \n",
       "3     Paar MACED im kalifornischen Hundepark für das...   \n",
       "4     Paar MACED in Kalifornien Hundepark für nicht ...   \n",
       "...                                                 ...   \n",
       "8345  Wiley, bekannt als Godfather of Grime und mit ...   \n",
       "8346  Wiley, bekannt als der Pate des Schmutzes und ...   \n",
       "8347  Wiley, bekannt als Godfather of Grime und mit ...   \n",
       "8348  Wiley, bekannt als Godfather of Grime und mit ...   \n",
       "8349  Wiley, der als Pate von Grime bekannt ist und ...   \n",
       "\n",
       "                                              reference  z_mqm_score  \\\n",
       "0     Angriff mit Pfefferspray auf ein Paar in einem...    -0.013807   \n",
       "1     Angriff mit Pfefferspray auf ein Paar in einem...    -0.858404   \n",
       "2     Angriff mit Pfefferspray auf ein Paar in einem...    -1.182732   \n",
       "3     Angriff mit Pfefferspray auf ein Paar in einem...    -1.182732   \n",
       "4     Angriff mit Pfefferspray auf ein Paar in einem...    -0.561254   \n",
       "...                                                 ...          ...   \n",
       "8345  Wiley, bekannt als „Godfather of Grime“, desse...     0.342346   \n",
       "8346  Wiley, bekannt als „Godfather of Grime“, desse...     0.080083   \n",
       "8347  Wiley, bekannt als „Godfather of Grime“, desse...     0.709702   \n",
       "8348  Wiley, bekannt als „Godfather of Grime“, desse...     0.326909   \n",
       "8349  Wiley, bekannt als „Godfather of Grime“, desse...     0.080083   \n",
       "\n",
       "      Fluency_error  Terminology_error  Style_error  No-error  Accuracy_error  \\\n",
       "0                 0                  0            0         0               1   \n",
       "1                 0                  0            0         0               1   \n",
       "2                 0                  0            1         0               0   \n",
       "3                 0                  0            0         0               1   \n",
       "4                 0                  0            0         0               1   \n",
       "...             ...                ...          ...       ...             ...   \n",
       "8345              0                  0            1         0               0   \n",
       "8346              0                  0            1         0               0   \n",
       "8347              0                  0            0         1               0   \n",
       "8348              0                  0            0         1               0   \n",
       "8349              0                  1            0         0               0   \n",
       "\n",
       "      severity  \n",
       "0        Major  \n",
       "1        Major  \n",
       "2        Minor  \n",
       "3        Major  \n",
       "4        Major  \n",
       "...        ...  \n",
       "8345     Minor  \n",
       "8346     Major  \n",
       "8347  No-error  \n",
       "8348  No-error  \n",
       "8349     Major  \n",
       "\n",
       "[8238 rows x 9 columns]"
      ]
     },
     "execution_count": 97,
     "metadata": {},
     "output_type": "execute_result"
    }
   ],
   "source": [
    "mqm21_sub_df = mqm21_sub_df[['mt_output', 'reference', 'z_mqm_score', 'Fluency_error', 'Terminology_error', \n",
    "                             'Style_error', 'No-error', 'Accuracy_error', 'severity']]\n",
    "mqm21_sub_df"
   ]
  },
  {
   "cell_type": "code",
   "execution_count": 98,
   "id": "7cbf0197",
   "metadata": {},
   "outputs": [],
   "source": [
    "mqm21_sub_df.reset_index(drop=True, inplace=True)"
   ]
  },
  {
   "cell_type": "markdown",
   "id": "a73b562f",
   "metadata": {},
   "source": [
    "#### Useful functions:\n",
    "1. `tokenizer.encode` ~ `self.convert_tokens_to_ids(self.tokenize(text))`\n",
    "\n",
    "2. `tokenizer.encode_plus` function combines multiple steps for us:\n",
    "    - Split the sentence into tokens. \n",
    "    - Add the special [CLS] and [SEP] tokens. \n",
    "    - Map the tokens to their IDs. \n",
    "    - Pad or truncate all sentences to the same length. \n",
    "    - Create the attention masks which explicitly differentiate real tokens from [PAD] tokens."
   ]
  },
  {
   "cell_type": "markdown",
   "id": "3f8f88f5",
   "metadata": {},
   "source": [
    "### Prepare data"
   ]
  },
  {
   "cell_type": "code",
   "execution_count": 9,
   "id": "3df18129",
   "metadata": {
    "scrolled": true
   },
   "outputs": [],
   "source": [
    "import torch\n",
    "from transformers import AutoTokenizer\n",
    "\n",
    "# Load the tokenizer for the BERT model.\n",
    "tokenizer = AutoTokenizer.from_pretrained('bert-base-uncased')\n",
    "\n",
    "import os\n",
    "os.environ[\"TOKENIZERS_PARALLELISM\"] = \"false\"\n",
    "\n",
    "# Create The Dataset Class.\n",
    "class TheDataset(torch.utils.data.Dataset):\n",
    "\n",
    "    def __init__(self, trans, refs, scores, tokenizer, max_len=tokenizer.model_max_length):\n",
    "        self.trans = trans\n",
    "        self.refs = refs\n",
    "        self.scores = scores\n",
    "        self.tokenizer  = tokenizer\n",
    "        self.max_len    = max_len\n",
    "  \n",
    "    def __len__(self):\n",
    "        if not (len(self.trans) == len(self.refs) == len(self.scores)):\n",
    "            raise Exception('Number of translations, reference sentences and corresponding scores should be the same!')\n",
    "        return len(self.trans)\n",
    "  \n",
    "    def __getitem__(self, index):\n",
    "        tran = str(self.trans[index])\n",
    "        ref = str(self.refs[index])\n",
    "        score = self.scores[index]\n",
    "\n",
    "        encoded_input = self.tokenizer.encode_plus(\n",
    "            tran, ref,\n",
    "            add_special_tokens    = True,\n",
    "            max_length            = self.max_len,\n",
    "            return_token_type_ids = False,\n",
    "            return_attention_mask = True,\n",
    "            return_tensors        = \"pt\",\n",
    "            padding               = \"max_length\",\n",
    "            truncation            = True\n",
    "        )\n",
    "\n",
    "        return {\n",
    "            'input_ids': encoded_input['input_ids'][0],\n",
    "            'attention_mask': encoded_input['attention_mask'][0],\n",
    "            'labels': torch.tensor(score, dtype=torch.float32)\n",
    "        }\n"
   ]
  },
  {
   "cell_type": "code",
   "execution_count": 7,
   "id": "0cb0974b",
   "metadata": {},
   "outputs": [],
   "source": [
    "dataset = pd.DataFrame({'translation': mt_snts_15 + mt_snts_16, \n",
    "                        'reference': ref_snts_15 + ref_snts_16, \n",
    "                        'score': da_scores_15 + da_scores_16})\n",
    "dataset = dataset.sample(frac=1).reset_index(drop=True, random_state=1)\n",
    "\n",
    "train_set = dataset[0:800]\n",
    "valid_set = dataset[800:960]\n",
    "test_set  = dataset[960:1060]"
   ]
  },
  {
   "cell_type": "code",
   "execution_count": 8,
   "id": "f8fd059b",
   "metadata": {},
   "outputs": [
    {
     "data": {
      "text/plain": [
       "<AxesSubplot:>"
      ]
     },
     "execution_count": 8,
     "metadata": {},
     "output_type": "execute_result"
    },
    {
     "data": {
      "image/png": "[encoded data removed]",
      "text/plain": [
       "<Figure size 432x288 with 1 Axes>"
      ]
     },
     "metadata": {
      "needs_background": "light"
     },
     "output_type": "display_data"
    }
   ],
   "source": [
    "dataset.score.hist()"
   ]
  },
  {
   "cell_type": "code",
   "execution_count": null,
   "id": "9cc5d853",
   "metadata": {},
   "outputs": [],
   "source": [
    "# Create Dataset objects for train/validation sets.\n",
    "train_set_dataset = TheDataset(\n",
    "    trans    = train_set.translation.tolist(),\n",
    "    refs     = train_set.reference.tolist(),\n",
    "    scores   = train_set.score.tolist(),\n",
    "    tokenizer  = tokenizer,\n",
    "    max_len    = 150,\n",
    ")\n",
    "\n",
    "valid_set_dataset = TheDataset(\n",
    "    trans    = valid_set.translation.tolist(),\n",
    "    refs     = valid_set.reference.tolist(),\n",
    "    scores   = valid_set.score.tolist(),\n",
    "    tokenizer  = tokenizer,\n",
    "    max_len    = 150,\n",
    ")"
   ]
  },
  {
   "cell_type": "markdown",
   "id": "5a02399f",
   "metadata": {},
   "source": [
    "### Finetune"
   ]
  },
  {
   "cell_type": "code",
   "execution_count": 7,
   "id": "9d943588",
   "metadata": {
    "scrolled": true
   },
   "outputs": [
    {
     "name": "stderr",
     "output_type": "stream",
     "text": [
      "Some weights of the model checkpoint at bert-base-uncased were not used when initializing BertForSequenceClassification: ['cls.seq_relationship.bias', 'cls.predictions.transform.dense.bias', 'cls.predictions.bias', 'cls.predictions.transform.LayerNorm.weight', 'cls.seq_relationship.weight', 'cls.predictions.transform.LayerNorm.bias', 'cls.predictions.transform.dense.weight', 'cls.predictions.decoder.weight']\n",
      "- This IS expected if you are initializing BertForSequenceClassification from the checkpoint of a model trained on another task or with another architecture (e.g. initializing a BertForSequenceClassification model from a BertForPreTraining model).\n",
      "- This IS NOT expected if you are initializing BertForSequenceClassification from the checkpoint of a model that you expect to be exactly identical (initializing a BertForSequenceClassification model from a BertForSequenceClassification model).\n",
      "Some weights of BertForSequenceClassification were not initialized from the model checkpoint at bert-base-uncased and are newly initialized: ['classifier.weight', 'classifier.bias']\n",
      "You should probably TRAIN this model on a down-stream task to be able to use it for predictions and inference.\n"
     ]
    }
   ],
   "source": [
    "from transformers import AutoModelForSequenceClassification\n",
    "\n",
    "# num_labels = 1 for regression\n",
    "model = AutoModelForSequenceClassification.from_pretrained(\"bert-base-uncased\", num_labels=1) \n",
    "# model = AutoModelForSequenceClassification.from_pretrained(\"./models/checkpoint-475_bs32_no_warmup_epochs20\", \n",
    "#                                                            num_labels=1)"
   ]
  },
  {
   "cell_type": "code",
   "execution_count": 36,
   "id": "ec2eb2e9",
   "metadata": {},
   "outputs": [],
   "source": [
    "for name, param in model.bert.named_parameters():\n",
    "    if not name.startswith('pooler'):\n",
    "        param.requires_grad = False"
   ]
  },
  {
   "cell_type": "code",
   "execution_count": 37,
   "id": "ed93c4e7",
   "metadata": {},
   "outputs": [],
   "source": [
    "from sklearn.metrics import mean_squared_error, r2_score\n",
    "def compute_reg_metrics(pred):\n",
    "    scores = pred.label_ids\n",
    "    preds = pred.predictions.argmax(-1)\n",
    "    r2 = r2_score(scores, preds)\n",
    "    mse = mean_squared_error(scores, preds)\n",
    "    return {\n",
    "        'mean squared error': mse,\n",
    "        'r2_score': r2,\n",
    "    }"
   ]
  },
  {
   "cell_type": "code",
   "execution_count": 38,
   "id": "d16aa688",
   "metadata": {
    "scrolled": true
   },
   "outputs": [
    {
     "name": "stderr",
     "output_type": "stream",
     "text": [
      "using `logging_steps` to initialize `eval_steps` to 500\n",
      "PyTorch: setting up devices\n",
      "The default value for the training argument `--report_to` will change in v5 (from all installed integrations to none). In v5, you will need to use `--report_to all` to get the same behavior as now. You should start updating your code and make this info disappear :-).\n",
      "/home/ira/anaconda3/envs/eval_metrics/lib/python3.7/site-packages/transformers/optimization.py:309: FutureWarning: This implementation of AdamW is deprecated and will be removed in a future version. Use the PyTorch implementation torch.optim.AdamW instead, or set `no_deprecation_warning=True` to disable this warning\n",
      "  FutureWarning,\n",
      "***** Running training *****\n",
      "  Num examples = 800\n",
      "  Num Epochs = 5\n",
      "  Instantaneous batch size per device = 32\n",
      "  Total train batch size (w. parallel, distributed & accumulation) = 32\n",
      "  Gradient Accumulation steps = 1\n",
      "  Total optimization steps = 125\n"
     ]
    },
    {
     "data": {
      "text/html": [
       "\n",
       "    <div>\n",
       "      \n",
       "      <progress value='125' max='125' style='width:300px; height:20px; vertical-align: middle;'></progress>\n",
       "      [125/125 22:17, Epoch 5/5]\n",
       "    </div>\n",
       "    <table border=\"1\" class=\"dataframe\">\n",
       "  <thead>\n",
       " <tr style=\"text-align: left;\">\n",
       "      <th>Step</th>\n",
       "      <th>Training Loss</th>\n",
       "      <th>Validation Loss</th>\n",
       "    </tr>\n",
       "  </thead>\n",
       "  <tbody>\n",
       "  </tbody>\n",
       "</table><p>"
      ],
      "text/plain": [
       "<IPython.core.display.HTML object>"
      ]
     },
     "metadata": {},
     "output_type": "display_data"
    },
    {
     "name": "stderr",
     "output_type": "stream",
     "text": [
      "Saving model checkpoint to ./models/checkpoint-25\n",
      "Configuration saved in ./models/checkpoint-25/config.json\n",
      "Model weights saved in ./models/checkpoint-25/pytorch_model.bin\n",
      "Saving model checkpoint to ./models/checkpoint-50\n",
      "Configuration saved in ./models/checkpoint-50/config.json\n",
      "Model weights saved in ./models/checkpoint-50/pytorch_model.bin\n",
      "Saving model checkpoint to ./models/checkpoint-75\n",
      "Configuration saved in ./models/checkpoint-75/config.json\n",
      "Model weights saved in ./models/checkpoint-75/pytorch_model.bin\n",
      "Saving model checkpoint to ./models/checkpoint-100\n",
      "Configuration saved in ./models/checkpoint-100/config.json\n",
      "Model weights saved in ./models/checkpoint-100/pytorch_model.bin\n",
      "Saving model checkpoint to ./models/checkpoint-125\n",
      "Configuration saved in ./models/checkpoint-125/config.json\n",
      "Model weights saved in ./models/checkpoint-125/pytorch_model.bin\n",
      "\n",
      "\n",
      "Training completed. Do not forget to share your model on huggingface.co/models =)\n",
      "\n",
      "\n"
     ]
    },
    {
     "data": {
      "text/plain": [
       "TrainOutput(global_step=125, training_loss=0.20317349243164062, metrics={'train_runtime': 1341.9825, 'train_samples_per_second': 2.981, 'train_steps_per_second': 0.093, 'total_flos': 308330499600000.0, 'train_loss': 0.20317349243164062, 'epoch': 5.0})"
      ]
     },
     "execution_count": 38,
     "metadata": {},
     "output_type": "execute_result"
    }
   ],
   "source": [
    "from transformers import TrainingArguments, Trainer\n",
    "training_args = TrainingArguments(\n",
    "    output_dir                  = \"./models\",\n",
    "    num_train_epochs            = 5,\n",
    "    per_device_train_batch_size = 32,\n",
    "    per_device_eval_batch_size  = 32,\n",
    "    warmup_steps                = 10,\n",
    "    weight_decay                = 0.01,\n",
    "    save_strategy               = \"epoch\",\n",
    "    evaluation_strategy         = \"steps\"\n",
    ")\n",
    "\n",
    "trainer = Trainer(\n",
    "    model           = model,\n",
    "    args            = training_args,\n",
    "    train_dataset   = train_set_dataset,\n",
    "    eval_dataset    = valid_set_dataset,\n",
    "    compute_metrics = compute_reg_metrics\n",
    ")\n",
    "\n",
    "trainer.train()"
   ]
  },
  {
   "cell_type": "code",
   "execution_count": 46,
   "id": "7ab1fb2e",
   "metadata": {
    "scrolled": true
   },
   "outputs": [
    {
     "name": "stderr",
     "output_type": "stream",
     "text": [
      "loading configuration file ./models_new/checkpoint-650/config.json\n",
      "Model config BertConfig {\n",
      "  \"_name_or_path\": \"./models_new/checkpoint-650\",\n",
      "  \"architectures\": [\n",
      "    \"BertForSequenceClassification\"\n",
      "  ],\n",
      "  \"attention_probs_dropout_prob\": 0.1,\n",
      "  \"classifier_dropout\": null,\n",
      "  \"gradient_checkpointing\": false,\n",
      "  \"hidden_act\": \"gelu\",\n",
      "  \"hidden_dropout_prob\": 0.1,\n",
      "  \"hidden_size\": 768,\n",
      "  \"id2label\": {\n",
      "    \"0\": \"LABEL_0\"\n",
      "  },\n",
      "  \"initializer_range\": 0.02,\n",
      "  \"intermediate_size\": 3072,\n",
      "  \"label2id\": {\n",
      "    \"LABEL_0\": 0\n",
      "  },\n",
      "  \"layer_norm_eps\": 1e-12,\n",
      "  \"max_position_embeddings\": 512,\n",
      "  \"model_type\": \"bert\",\n",
      "  \"num_attention_heads\": 12,\n",
      "  \"num_hidden_layers\": 12,\n",
      "  \"pad_token_id\": 0,\n",
      "  \"position_embedding_type\": \"absolute\",\n",
      "  \"problem_type\": \"regression\",\n",
      "  \"torch_dtype\": \"float32\",\n",
      "  \"transformers_version\": \"4.17.0\",\n",
      "  \"type_vocab_size\": 2,\n",
      "  \"use_cache\": true,\n",
      "  \"vocab_size\": 30522\n",
      "}\n",
      "\n",
      "loading weights file ./models_new/checkpoint-650/pytorch_model.bin\n",
      "All model checkpoint weights were used when initializing BertForSequenceClassification.\n",
      "\n",
      "All the weights of BertForSequenceClassification were initialized from the model checkpoint at ./models_new/checkpoint-650.\n",
      "If your task is similar to the task the model of the checkpoint was trained on, you can already use BertForSequenceClassification for predictions without further training.\n",
      "PyTorch: setting up devices\n",
      "The default value for the training argument `--report_to` will change in v5 (from all installed integrations to none). In v5, you will need to use `--report_to all` to get the same behavior as now. You should start updating your code and make this info disappear :-).\n",
      "***** Running Prediction *****\n",
      "  Num examples = 100\n",
      "  Batch size = 8\n"
     ]
    },
    {
     "data": {
      "text/html": [
       "\n",
       "    <div>\n",
       "      \n",
       "      <progress value='13' max='13' style='width:300px; height:20px; vertical-align: middle;'></progress>\n",
       "      [13/13 00:14]\n",
       "    </div>\n",
       "    "
      ],
      "text/plain": [
       "<IPython.core.display.HTML object>"
      ]
     },
     "metadata": {},
     "output_type": "display_data"
    }
   ],
   "source": [
    "# Load the checkpoint\n",
    "model = AutoModelForSequenceClassification.from_pretrained(\"./models_new/checkpoint-650\", num_labels=1)\n",
    "\n",
    "# Make the test set ready\n",
    "test_set_dataset = TheDataset(\n",
    "    trans    = test_set.translation.tolist(),\n",
    "    refs     = test_set.reference.tolist(),\n",
    "    scores   = test_set.score.tolist(),\n",
    "    tokenizer  = tokenizer,\n",
    "    max_len    = 150,\n",
    ")\n",
    "\n",
    "training_args = TrainingArguments(\n",
    "    output_dir = \"./models_new\",\n",
    "    do_predict = True, \n",
    ")\n",
    "\n",
    "trainer = Trainer(\n",
    "    model           = model,\n",
    "    args            = training_args,\n",
    "    compute_metrics = compute_reg_metrics,\n",
    ")\n",
    "\n",
    "res = trainer.predict(test_set_dataset)"
   ]
  },
  {
   "cell_type": "code",
   "execution_count": 47,
   "id": "39bcfdad",
   "metadata": {},
   "outputs": [
    {
     "name": "stderr",
     "output_type": "stream",
     "text": [
      "/home/ira/anaconda3/envs/eval_metrics/lib/python3.7/site-packages/ipykernel_launcher.py:2: SettingWithCopyWarning: \n",
      "A value is trying to be set on a copy of a slice from a DataFrame.\n",
      "Try using .loc[row_indexer,col_indexer] = value instead\n",
      "\n",
      "See the caveats in the documentation: https://pandas.pydata.org/pandas-docs/stable/user_guide/indexing.html#returning-a-view-versus-a-copy\n",
      "  \n"
     ]
    },
    {
     "data": {
      "text/html": [
       "<div>\n",
       "<style scoped>\n",
       "    .dataframe tbody tr th:only-of-type {\n",
       "        vertical-align: middle;\n",
       "    }\n",
       "\n",
       "    .dataframe tbody tr th {\n",
       "        vertical-align: top;\n",
       "    }\n",
       "\n",
       "    .dataframe thead th {\n",
       "        text-align: right;\n",
       "    }\n",
       "</style>\n",
       "<table border=\"1\" class=\"dataframe\">\n",
       "  <thead>\n",
       "    <tr style=\"text-align: right;\">\n",
       "      <th></th>\n",
       "      <th>score</th>\n",
       "      <th>preds</th>\n",
       "    </tr>\n",
       "  </thead>\n",
       "  <tbody>\n",
       "    <tr>\n",
       "      <th>score</th>\n",
       "      <td>1.000000</td>\n",
       "      <td>0.620806</td>\n",
       "    </tr>\n",
       "    <tr>\n",
       "      <th>preds</th>\n",
       "      <td>0.620806</td>\n",
       "      <td>1.000000</td>\n",
       "    </tr>\n",
       "  </tbody>\n",
       "</table>\n",
       "</div>"
      ],
      "text/plain": [
       "          score     preds\n",
       "score  1.000000  0.620806\n",
       "preds  0.620806  1.000000"
      ]
     },
     "execution_count": 47,
     "metadata": {},
     "output_type": "execute_result"
    }
   ],
   "source": [
    "pred_true_score_df = test_set[['score']]\n",
    "pred_true_score_df['preds'] = res.predictions\n",
    "\n",
    "pred_true_score_df.corr()"
   ]
  },
  {
   "cell_type": "markdown",
   "id": "5b02d6db",
   "metadata": {},
   "source": [
    "The best obtained scores:    \n",
    "0.613269 (450) --> 0.613167 (500)     \n",
    "0.620806 (650) --> 0.622908 (700) --> 0.622965 (750)"
   ]
  },
  {
   "cell_type": "code",
   "execution_count": null,
   "id": "70f25025",
   "metadata": {},
   "outputs": [],
   "source": []
  },
  {
   "cell_type": "code",
   "execution_count": null,
   "id": "ae4b632c",
   "metadata": {},
   "outputs": [],
   "source": []
  },
  {
   "cell_type": "code",
   "execution_count": null,
   "id": "9bc7ac36",
   "metadata": {},
   "outputs": [],
   "source": []
  },
  {
   "cell_type": "markdown",
   "id": "5c611541",
   "metadata": {},
   "source": [
    "## Classification with labels = MQM scores"
   ]
  },
  {
   "cell_type": "code",
   "execution_count": 108,
   "id": "6339dcbe",
   "metadata": {},
   "outputs": [],
   "source": [
    "from transformers import AutoModelForSequenceClassification\n",
    "from transformers import TrainingArguments, Trainer\n",
    "from sklearn.metrics import precision_recall_fscore_support, accuracy_score "
   ]
  },
  {
   "cell_type": "code",
   "execution_count": 109,
   "id": "48d72069",
   "metadata": {},
   "outputs": [
    {
     "data": {
      "text/plain": [
       "Index(['mt_output', 'reference', 'z_mqm_score', 'Fluency_error',\n",
       "       'Terminology_error', 'Style_error', 'No-error', 'Accuracy_error',\n",
       "       'severity'],\n",
       "      dtype='object')"
      ]
     },
     "execution_count": 109,
     "metadata": {},
     "output_type": "execute_result"
    }
   ],
   "source": [
    "mqm21_sub_df.columns"
   ]
  },
  {
   "cell_type": "code",
   "execution_count": 110,
   "id": "414986e8",
   "metadata": {},
   "outputs": [
    {
     "data": {
      "text/plain": [
       "['Fluency_error',\n",
       " 'Terminology_error',\n",
       " 'Style_error',\n",
       " 'No-error',\n",
       " 'Accuracy_error']"
      ]
     },
     "execution_count": 110,
     "metadata": {},
     "output_type": "execute_result"
    }
   ],
   "source": [
    "N_labels = 5\n",
    "LABEL_COLUMNS = list(mqm21_sub_df.columns[3:8])\n",
    "LABEL_COLUMNS"
   ]
  },
  {
   "cell_type": "code",
   "execution_count": 111,
   "id": "ace29400",
   "metadata": {},
   "outputs": [],
   "source": [
    "class TranslationClsfDataset(torch.utils.data.Dataset):\n",
    "    def __init__(self, data: pd.DataFrame, tokenizer, max_token_len: int = 128):\n",
    "        self.tokenizer = tokenizer\n",
    "        self.data = data\n",
    "        self.max_token_len = max_token_len\n",
    "\n",
    "    \n",
    "    def __len__(self):\n",
    "        return len(self.data)\n",
    "\n",
    "    \n",
    "    def __getitem__(self, index: int):\n",
    "        data_row = self.data.iloc[index]\n",
    "        tran = data_row.mt_output\n",
    "        ref = data_row.reference\n",
    "        labels = data_row[LABEL_COLUMNS]\n",
    "\n",
    "        encoding = self.tokenizer.encode_plus(\n",
    "            tran, ref,\n",
    "            add_special_tokens=True,\n",
    "            max_length=self.max_token_len,\n",
    "            return_token_type_ids=False,\n",
    "            return_attention_mask=True,\n",
    "            return_tensors='pt',\n",
    "            padding=\"max_length\",\n",
    "            truncation=True,\n",
    "        )\n",
    "    \n",
    "        return dict(\n",
    "            mt_output=tran,\n",
    "            input_ids=encoding[\"input_ids\"].flatten(),\n",
    "            attention_mask=encoding[\"attention_mask\"].flatten(),\n",
    "            labels=torch.FloatTensor(labels)\n",
    "        )"
   ]
  },
  {
   "cell_type": "code",
   "execution_count": 128,
   "id": "3dd0e8c6",
   "metadata": {},
   "outputs": [],
   "source": [
    "def compute_class_metrics(pred):\n",
    "    labels = pred.label_ids.argmax(-1)\n",
    "    preds = pred.predictions.argmax(-1)\n",
    "    print(f'labels: {labels}, predictions: {preds}')\n",
    "    precision, recall, f1, _ = precision_recall_fscore_support(labels, preds, average='micro')\n",
    "    acc = accuracy_score(labels, preds)\n",
    "    return {\n",
    "        'accuracy': acc,\n",
    "        'f1': f1,\n",
    "        'precision': precision,\n",
    "        'recall': recall\n",
    "    }"
   ]
  },
  {
   "cell_type": "code",
   "execution_count": 114,
   "id": "e400c0a1",
   "metadata": {},
   "outputs": [],
   "source": [
    "mqm21_sub_df = mqm21_sub_df.sample(frac=1, random_state=1).reset_index(drop=True)\n",
    "\n",
    "idx1 = int(len(mqm21_sub_df) * 0.8)\n",
    "idx2 = int(len(mqm21_sub_df) * 0.9)\n",
    "\n",
    "train_set = mqm21_sub_df[0:idx1]\n",
    "valid_set = mqm21_sub_df[idx1:idx2]\n",
    "test_set  = mqm21_sub_df[idx2:]"
   ]
  },
  {
   "cell_type": "code",
   "execution_count": 115,
   "id": "a7c4dc52",
   "metadata": {},
   "outputs": [],
   "source": [
    "# Create Dataset objects for train/validation sets.\n",
    "train_set_dataset = TranslationClsfDataset(\n",
    "    data   = train_set,\n",
    "    tokenizer  = tokenizer,\n",
    "    max_token_len    = 150,\n",
    ")\n",
    "\n",
    "valid_set_dataset = TranslationClsfDataset(\n",
    "    data   = valid_set,\n",
    "    tokenizer  = tokenizer,\n",
    "    max_token_len    = 150,\n",
    ")"
   ]
  },
  {
   "cell_type": "code",
   "execution_count": 118,
   "id": "4536346e",
   "metadata": {
    "scrolled": true
   },
   "outputs": [
    {
     "name": "stderr",
     "output_type": "stream",
     "text": [
      "loading configuration file https://huggingface.co/bert-base-uncased/resolve/main/config.json from cache at /home/ira/.cache/huggingface/transformers/3c61d016573b14f7f008c02c4e51a366c67ab274726fe2910691e2a761acf43e.37395cee442ab11005bcd270f3c34464dc1704b715b5d7d52b1a461abe3b9e4e\n",
      "Model config BertConfig {\n",
      "  \"_name_or_path\": \"bert-base-uncased\",\n",
      "  \"architectures\": [\n",
      "    \"BertForMaskedLM\"\n",
      "  ],\n",
      "  \"attention_probs_dropout_prob\": 0.1,\n",
      "  \"classifier_dropout\": null,\n",
      "  \"gradient_checkpointing\": false,\n",
      "  \"hidden_act\": \"gelu\",\n",
      "  \"hidden_dropout_prob\": 0.1,\n",
      "  \"hidden_size\": 768,\n",
      "  \"id2label\": {\n",
      "    \"0\": \"LABEL_0\",\n",
      "    \"1\": \"LABEL_1\",\n",
      "    \"2\": \"LABEL_2\",\n",
      "    \"3\": \"LABEL_3\",\n",
      "    \"4\": \"LABEL_4\"\n",
      "  },\n",
      "  \"initializer_range\": 0.02,\n",
      "  \"intermediate_size\": 3072,\n",
      "  \"label2id\": {\n",
      "    \"LABEL_0\": 0,\n",
      "    \"LABEL_1\": 1,\n",
      "    \"LABEL_2\": 2,\n",
      "    \"LABEL_3\": 3,\n",
      "    \"LABEL_4\": 4\n",
      "  },\n",
      "  \"layer_norm_eps\": 1e-12,\n",
      "  \"max_position_embeddings\": 512,\n",
      "  \"model_type\": \"bert\",\n",
      "  \"num_attention_heads\": 12,\n",
      "  \"num_hidden_layers\": 12,\n",
      "  \"pad_token_id\": 0,\n",
      "  \"position_embedding_type\": \"absolute\",\n",
      "  \"transformers_version\": \"4.17.0\",\n",
      "  \"type_vocab_size\": 2,\n",
      "  \"use_cache\": true,\n",
      "  \"vocab_size\": 30522\n",
      "}\n",
      "\n",
      "loading weights file https://huggingface.co/bert-base-uncased/resolve/main/pytorch_model.bin from cache at /home/ira/.cache/huggingface/transformers/a8041bf617d7f94ea26d15e218abd04afc2004805632abc0ed2066aa16d50d04.faf6ea826ae9c5867d12b22257f9877e6b8367890837bd60f7c54a29633f7f2f\n",
      "Some weights of the model checkpoint at bert-base-uncased were not used when initializing BertForSequenceClassification: ['cls.predictions.transform.dense.bias', 'cls.seq_relationship.weight', 'cls.predictions.transform.LayerNorm.weight', 'cls.predictions.transform.LayerNorm.bias', 'cls.predictions.decoder.weight', 'cls.seq_relationship.bias', 'cls.predictions.bias', 'cls.predictions.transform.dense.weight']\n",
      "- This IS expected if you are initializing BertForSequenceClassification from the checkpoint of a model trained on another task or with another architecture (e.g. initializing a BertForSequenceClassification model from a BertForPreTraining model).\n",
      "- This IS NOT expected if you are initializing BertForSequenceClassification from the checkpoint of a model that you expect to be exactly identical (initializing a BertForSequenceClassification model from a BertForSequenceClassification model).\n",
      "Some weights of BertForSequenceClassification were not initialized from the model checkpoint at bert-base-uncased and are newly initialized: ['classifier.bias', 'classifier.weight']\n",
      "You should probably TRAIN this model on a down-stream task to be able to use it for predictions and inference.\n",
      "using `logging_steps` to initialize `eval_steps` to 500\n",
      "PyTorch: setting up devices\n",
      "The default value for the training argument `--report_to` will change in v5 (from all installed integrations to none). In v5, you will need to use `--report_to all` to get the same behavior as now. You should start updating your code and make this info disappear :-).\n",
      "***** Running training *****\n",
      "  Num examples = 6590\n",
      "  Num Epochs = 2\n",
      "  Instantaneous batch size per device = 32\n",
      "  Total train batch size (w. parallel, distributed & accumulation) = 32\n",
      "  Gradient Accumulation steps = 1\n",
      "  Total optimization steps = 412\n"
     ]
    },
    {
     "data": {
      "text/html": [
       "\n",
       "    <div>\n",
       "      \n",
       "      <progress value='412' max='412' style='width:300px; height:20px; vertical-align: middle;'></progress>\n",
       "      [412/412 1:05:24, Epoch 2/2]\n",
       "    </div>\n",
       "    <table border=\"1\" class=\"dataframe\">\n",
       "  <thead>\n",
       " <tr style=\"text-align: left;\">\n",
       "      <th>Step</th>\n",
       "      <th>Training Loss</th>\n",
       "      <th>Validation Loss</th>\n",
       "    </tr>\n",
       "  </thead>\n",
       "  <tbody>\n",
       "  </tbody>\n",
       "</table><p>"
      ],
      "text/plain": [
       "<IPython.core.display.HTML object>"
      ]
     },
     "metadata": {},
     "output_type": "display_data"
    },
    {
     "name": "stderr",
     "output_type": "stream",
     "text": [
      "Saving model checkpoint to ./models_class/checkpoint-206\n",
      "Configuration saved in ./models_class/checkpoint-206/config.json\n",
      "Model weights saved in ./models_class/checkpoint-206/pytorch_model.bin\n",
      "Saving model checkpoint to ./models_class/checkpoint-412\n",
      "Configuration saved in ./models_class/checkpoint-412/config.json\n",
      "Model weights saved in ./models_class/checkpoint-412/pytorch_model.bin\n",
      "\n",
      "\n",
      "Training completed. Do not forget to share your model on huggingface.co/models =)\n",
      "\n",
      "\n"
     ]
    },
    {
     "data": {
      "text/plain": [
       "TrainOutput(global_step=412, training_loss=0.4442900129892294, metrics={'train_runtime': 3930.72, 'train_samples_per_second': 3.353, 'train_steps_per_second': 0.105, 'total_flos': 1015985483694000.0, 'train_loss': 0.4442900129892294, 'epoch': 2.0})"
      ]
     },
     "execution_count": 118,
     "metadata": {},
     "output_type": "execute_result"
    }
   ],
   "source": [
    "model = AutoModelForSequenceClassification.from_pretrained(\"bert-base-uncased\", num_labels=5)\n",
    "for name, param in model.bert.named_parameters():\n",
    "    if not name.startswith('pooler'):\n",
    "        param.requires_grad = False\n",
    "\n",
    "# Train        \n",
    "training_args = TrainingArguments(\n",
    "    output_dir                  = \"./models_class\",\n",
    "    num_train_epochs            = 2,\n",
    "    per_device_train_batch_size = 32,\n",
    "    per_device_eval_batch_size  = 32,\n",
    "    warmup_steps                = 50,\n",
    "    weight_decay                = 0.01,\n",
    "    save_strategy               = \"epoch\",\n",
    "    evaluation_strategy         = \"steps\"\n",
    ")\n",
    "\n",
    "trainer = Trainer(\n",
    "    model           = model,\n",
    "    args            = training_args,\n",
    "    train_dataset   = train_set_dataset,\n",
    "    eval_dataset    = valid_set_dataset,\n",
    "    compute_metrics = compute_class_metrics\n",
    ")\n",
    "\n",
    "trainer.train()"
   ]
  },
  {
   "cell_type": "code",
   "execution_count": 129,
   "id": "dfff0226",
   "metadata": {
    "scrolled": true
   },
   "outputs": [
    {
     "name": "stderr",
     "output_type": "stream",
     "text": [
      "loading configuration file ./models_class/checkpoint-412/config.json\n",
      "Model config BertConfig {\n",
      "  \"_name_or_path\": \"./models_class/checkpoint-412\",\n",
      "  \"architectures\": [\n",
      "    \"BertForSequenceClassification\"\n",
      "  ],\n",
      "  \"attention_probs_dropout_prob\": 0.1,\n",
      "  \"classifier_dropout\": null,\n",
      "  \"gradient_checkpointing\": false,\n",
      "  \"hidden_act\": \"gelu\",\n",
      "  \"hidden_dropout_prob\": 0.1,\n",
      "  \"hidden_size\": 768,\n",
      "  \"id2label\": {\n",
      "    \"0\": \"LABEL_0\",\n",
      "    \"1\": \"LABEL_1\",\n",
      "    \"2\": \"LABEL_2\",\n",
      "    \"3\": \"LABEL_3\",\n",
      "    \"4\": \"LABEL_4\"\n",
      "  },\n",
      "  \"initializer_range\": 0.02,\n",
      "  \"intermediate_size\": 3072,\n",
      "  \"label2id\": {\n",
      "    \"LABEL_0\": 0,\n",
      "    \"LABEL_1\": 1,\n",
      "    \"LABEL_2\": 2,\n",
      "    \"LABEL_3\": 3,\n",
      "    \"LABEL_4\": 4\n",
      "  },\n",
      "  \"layer_norm_eps\": 1e-12,\n",
      "  \"max_position_embeddings\": 512,\n",
      "  \"model_type\": \"bert\",\n",
      "  \"num_attention_heads\": 12,\n",
      "  \"num_hidden_layers\": 12,\n",
      "  \"pad_token_id\": 0,\n",
      "  \"position_embedding_type\": \"absolute\",\n",
      "  \"problem_type\": \"multi_label_classification\",\n",
      "  \"torch_dtype\": \"float32\",\n",
      "  \"transformers_version\": \"4.17.0\",\n",
      "  \"type_vocab_size\": 2,\n",
      "  \"use_cache\": true,\n",
      "  \"vocab_size\": 30522\n",
      "}\n",
      "\n",
      "loading weights file ./models_class/checkpoint-412/pytorch_model.bin\n",
      "All model checkpoint weights were used when initializing BertForSequenceClassification.\n",
      "\n",
      "All the weights of BertForSequenceClassification were initialized from the model checkpoint at ./models_class/checkpoint-412.\n",
      "If your task is similar to the task the model of the checkpoint was trained on, you can already use BertForSequenceClassification for predictions without further training.\n",
      "PyTorch: setting up devices\n",
      "The default value for the training argument `--report_to` will change in v5 (from all installed integrations to none). In v5, you will need to use `--report_to all` to get the same behavior as now. You should start updating your code and make this info disappear :-).\n",
      "***** Running Prediction *****\n",
      "  Num examples = 824\n",
      "  Batch size = 8\n"
     ]
    },
    {
     "data": {
      "text/html": [
       "\n",
       "    <div>\n",
       "      \n",
       "      <progress value='103' max='103' style='width:300px; height:20px; vertical-align: middle;'></progress>\n",
       "      [103/103 02:45]\n",
       "    </div>\n",
       "    "
      ],
      "text/plain": [
       "<IPython.core.display.HTML object>"
      ]
     },
     "metadata": {},
     "output_type": "display_data"
    },
    {
     "name": "stdout",
     "output_type": "stream",
     "text": [
      "labels: [0 3 4 0 4 3 4 3 3 0 0 3 3 4 3 1 1 3 3 3 3 3 3 2 4 0 3 0 4 3 3 2 2 3 3 0 3\n",
      " 3 3 0 2 3 2 3 4 4 3 3 3 3 2 3 3 2 3 2 3 4 0 2 0 3 3 3 3 3 2 2 3 3 0 3 0 3\n",
      " 2 3 4 2 1 2 4 3 2 4 3 3 0 4 4 3 3 4 3 2 0 3 4 4 2 3 3 3 3 3 2 2 2 0 0 1 2\n",
      " 2 2 4 3 2 3 3 2 3 3 3 0 3 2 4 4 3 0 0 3 3 4 0 3 2 1 0 2 4 3 3 3 0 3 0 0 2\n",
      " 3 3 0 3 2 2 3 2 2 2 0 4 3 0 3 2 2 4 2 0 3 3 0 3 2 3 4 1 2 1 2 3 3 3 2 3 2\n",
      " 0 2 2 1 3 3 4 3 0 3 3 2 0 2 3 2 3 3 3 3 3 0 4 2 3 4 3 0 4 4 0 3 3 3 2 2 3\n",
      " 3 4 3 3 0 3 2 3 2 0 3 3 4 4 4 0 0 2 4 4 3 1 4 3 3 4 2 0 4 2 3 2 2 0 2 3 2\n",
      " 2 0 3 3 3 4 2 3 2 2 3 3 3 2 3 2 3 3 3 3 2 0 3 2 0 0 3 3 3 4 3 3 2 3 2 3 3\n",
      " 2 0 2 3 3 2 0 2 4 1 4 2 4 3 0 3 0 0 3 3 0 3 3 3 4 3 3 3 2 0 3 2 3 3 3 2 2\n",
      " 3 4 0 0 2 2 2 2 2 3 4 3 2 0 2 2 0 2 3 3 3 3 3 2 3 0 4 4 3 2 3 0 4 4 2 3 0\n",
      " 3 0 2 3 2 0 3 4 3 1 3 0 2 0 3 3 3 0 3 3 3 4 0 2 2 3 0 2 2 4 3 3 4 3 2 3 3\n",
      " 0 2 3 3 1 3 4 3 3 1 2 3 3 2 3 2 3 3 3 3 4 2 1 0 2 3 3 3 3 3 2 0 2 3 3 3 3\n",
      " 4 2 3 0 3 3 3 3 3 3 2 4 3 2 3 3 2 3 4 3 0 3 3 4 0 0 3 3 3 2 3 0 4 0 1 3 2\n",
      " 3 2 2 3 3 3 3 3 3 3 2 3 4 1 3 3 0 3 3 3 3 2 3 3 2 2 3 2 2 3 0 2 3 0 3 2 4\n",
      " 0 3 0 2 3 3 3 0 4 0 2 3 0 2 2 3 1 0 0 0 3 3 3 3 0 4 0 3 3 2 3 0 4 3 3 3 4\n",
      " 0 2 3 0 2 4 3 4 3 3 4 4 4 3 3 3 3 3 2 3 2 2 0 3 3 4 0 1 4 2 3 2 1 3 0 2 3\n",
      " 2 2 1 3 3 3 2 3 4 3 4 3 3 2 2 3 2 0 2 4 2 4 0 3 3 3 0 2 3 3 0 3 0 3 3 3 3\n",
      " 3 3 4 4 0 3 1 3 0 3 0 3 3 3 3 3 4 3 2 2 3 2 4 2 0 2 2 4 0 4 0 3 3 3 3 3 0\n",
      " 3 2 2 3 4 2 4 0 3 3 3 3 2 3 2 3 3 2 3 3 2 0 3 2 3 2 4 3 1 4 4 0 3 3 2 0 2\n",
      " 1 2 3 3 0 3 0 0 4 3 0 3 4 0 3 3 3 2 3 2 3 0 3 3 4 3 4 0 4 3 3 3 3 3 4 4 2\n",
      " 2 4 2 0 3 1 3 4 3 0 3 3 2 0 3 2 3 2 0 3 3 2 3 2 3 0 3 2 2 4 2 2 3 3 1 4 0\n",
      " 2 3 2 0 4 3 1 2 3 3 0 3 2 4 2 1 2 3 2 0 0 3 2 4 3 0 2 4 0 3 3 3 4 1 3 2 3\n",
      " 3 2 3 4 2 2 0 4 2 4], predictions: [3 3 3 3 3 3 3 3 3 3 3 3 3 3 3 3 3 3 3 3 3 3 3 3 3 3 3 3 3 3 3 3 3 3 3 3 3\n",
      " 3 3 3 3 3 3 3 3 3 3 3 3 3 3 3 3 3 3 3 3 3 3 3 3 3 3 3 3 3 3 3 3 3 3 3 3 3\n",
      " 3 3 3 3 3 3 3 3 3 3 3 3 3 3 3 3 3 3 3 3 3 3 3 3 3 3 3 3 3 3 3 3 3 3 3 3 3\n",
      " 3 3 3 3 3 3 3 3 3 3 3 3 3 3 3 3 3 3 3 3 3 3 3 3 3 3 3 3 3 3 3 3 3 3 3 3 3\n",
      " 3 3 3 3 3 3 3 3 3 3 3 3 3 3 3 3 3 3 3 3 3 3 3 3 3 3 3 3 3 3 3 3 3 3 3 3 3\n",
      " 3 3 3 3 3 3 3 3 3 3 3 3 3 3 3 3 3 3 3 3 3 3 3 3 3 3 3 3 3 3 3 3 3 3 3 3 3\n",
      " 3 3 3 3 3 3 3 3 3 3 3 3 3 3 3 3 3 3 3 3 3 3 3 3 0 3 3 3 3 3 3 3 3 3 3 3 3\n",
      " 3 3 3 3 3 3 3 3 3 3 3 3 3 3 3 3 3 3 3 3 3 3 3 3 3 3 3 3 3 3 3 3 3 3 3 3 3\n",
      " 3 3 3 3 3 3 3 3 3 3 3 3 3 3 3 3 3 3 3 3 3 3 3 3 3 3 3 3 3 3 3 3 3 3 3 3 3\n",
      " 3 3 3 3 3 3 3 3 3 3 3 3 3 3 3 3 3 3 3 3 3 3 3 3 3 3 3 3 3 3 3 3 3 3 3 3 3\n",
      " 3 3 3 3 3 3 3 3 3 3 3 3 3 3 3 3 3 3 3 3 3 3 3 3 3 3 3 3 3 3 3 3 3 3 3 3 3\n",
      " 3 3 3 3 3 3 3 3 3 3 3 3 3 3 3 3 3 3 3 3 3 3 3 3 3 3 3 3 3 3 3 3 3 3 3 3 3\n",
      " 3 3 3 3 3 3 3 3 3 3 3 3 3 3 3 3 3 3 3 3 3 3 3 3 3 3 3 3 3 3 3 3 3 3 3 3 3\n",
      " 3 3 3 3 3 3 3 3 3 3 3 3 3 3 3 3 3 3 3 3 3 3 3 3 3 3 3 3 3 3 3 3 3 3 3 3 3\n",
      " 3 3 3 3 3 3 3 3 3 3 3 3 3 3 3 3 3 3 3 3 3 3 3 3 3 3 3 3 3 3 3 3 3 3 3 3 3\n",
      " 3 3 3 3 3 3 3 3 3 3 3 3 3 3 3 3 3 3 3 3 3 3 3 3 3 3 3 3 3 3 3 3 3 3 3 3 3\n",
      " 3 3 3 3 3 3 3 3 3 3 3 3 3 3 3 3 3 3 3 3 3 3 3 3 3 3 3 3 3 3 3 3 3 3 3 3 3\n",
      " 3 3 3 3 3 3 3 3 0 3 3 3 3 3 3 3 3 3 3 3 3 3 3 3 3 3 3 3 3 3 3 3 3 3 3 3 3\n",
      " 3 3 3 3 3 3 3 3 3 3 3 3 3 3 3 3 3 3 3 3 3 3 3 3 3 3 3 3 3 3 3 3 3 3 3 3 3\n",
      " 3 3 3 3 3 3 3 3 3 3 3 3 3 3 3 3 3 3 3 3 3 3 3 3 3 3 3 3 3 3 3 3 3 3 3 3 3\n",
      " 3 3 3 3 3 3 3 3 3 3 3 3 3 3 3 3 3 3 3 3 3 3 3 3 3 3 3 3 3 3 3 3 3 3 3 3 3\n",
      " 3 3 0 3 3 3 3 3 3 3 3 3 3 3 3 3 3 3 3 3 3 3 3 3 3 3 3 3 3 3 3 3 3 3 3 3 3\n",
      " 3 3 3 3 3 3 3 3 3 3]\n"
     ]
    }
   ],
   "source": [
    "# Load the checkpoint\n",
    "model = AutoModelForSequenceClassification.from_pretrained(\"./models_class/checkpoint-412\", num_labels=5)\n",
    "\n",
    "# Make the test set ready\n",
    "test_set_dataset = TranslationClsfDataset(\n",
    "    data   = test_set,\n",
    "    tokenizer  = tokenizer,\n",
    "    max_token_len    = 150,\n",
    ")\n",
    "\n",
    "training_args = TrainingArguments(\n",
    "    output_dir = \"./models_class\",\n",
    "    do_predict = True, \n",
    ")\n",
    "\n",
    "trainer = Trainer(\n",
    "    model           = model,\n",
    "    args            = training_args,\n",
    "    compute_metrics = compute_class_metrics,\n",
    ")\n",
    "\n",
    "res = trainer.predict(test_set_dataset)"
   ]
  },
  {
   "cell_type": "code",
   "execution_count": null,
   "id": "09d9c0d2",
   "metadata": {},
   "outputs": [],
   "source": []
  },
  {
   "cell_type": "code",
   "execution_count": 17,
   "id": "a5238a87",
   "metadata": {},
   "outputs": [],
   "source": [
    "# import numpy as np\n",
    "# import pandas as pd\n",
    "# from sklearn.model_selection import train_test_split\n",
    "# from sklearn.metrics import accuracy_score, recall_score, precision_score, f1_score\n",
    "# import torch\n",
    "# from transformers import TrainingArguments, Trainer\n",
    "# from transformers import BertTokenizer, BertForSequenceClassification\n",
    "# from transformers import EarlyStoppingCallback\n",
    "\n",
    "\n",
    "# # Read data\n",
    "# data = pd.read_csv(\"train.csv\")\n",
    "\n",
    "# # Define pretrained tokenizer and model\n",
    "# model_name = \"bert-base-uncased\"\n",
    "# tokenizer = BertTokenizer.from_pretrained(model_name)\n",
    "# model = BertForSequenceClassification.from_pretrained(model_name, num_labels=1)\n",
    "\n",
    "\n",
    "# # ----- 1. Preprocess data -----#\n",
    "# # Preprocess data\n",
    "# X = list(data[\"review\"])\n",
    "# y = list(data[\"sentiment\"])\n",
    "# X_train, X_val, y_train, y_val = train_test_split(X, y, test_size=0.2)\n",
    "# X_train_tokenized = tokenizer(X_train, padding=True, truncation=True, max_length=512)\n",
    "# X_val_tokenized = tokenizer(X_val, padding=True, truncation=True, max_length=512)\n",
    "\n",
    "# # Create torch dataset\n",
    "# class Dataset(torch.utils.data.Dataset):\n",
    "#     def __init__(self, encodings, labels=None):\n",
    "#         self.encodings = encodings\n",
    "#         self.labels = labels\n",
    "\n",
    "#     def __getitem__(self, idx):\n",
    "#         item = {key: torch.tensor(val[idx]) for key, val in self.encodings.items()}\n",
    "#         if self.labels:\n",
    "#             item[\"labels\"] = torch.tensor(self.labels[idx])\n",
    "#         return item\n",
    "\n",
    "#     def __len__(self):\n",
    "#         return len(self.encodings[\"input_ids\"])\n",
    "\n",
    "# train_dataset = Dataset(X_train_tokenized, y_train)\n",
    "# val_dataset = Dataset(X_val_tokenized, y_val)\n",
    "\n",
    "# # ----- 2. Fine-tune pretrained model -----#\n",
    "# # Define Trainer parameters\n",
    "# def compute_metrics(p):\n",
    "#     pred, labels = p\n",
    "#     pred = np.argmax(pred, axis=1)\n",
    "\n",
    "#     accuracy = accuracy_score(y_true=labels, y_pred=pred)\n",
    "#     recall = recall_score(y_true=labels, y_pred=pred)\n",
    "#     precision = precision_score(y_true=labels, y_pred=pred)\n",
    "#     f1 = f1_score(y_true=labels, y_pred=pred)\n",
    "\n",
    "#     return {\"accuracy\": accuracy, \"precision\": precision, \"recall\": recall, \"f1\": f1}\n",
    "\n",
    "# # Define Trainer\n",
    "# args = TrainingArguments(\n",
    "#     output_dir=\"output\",\n",
    "#     evaluation_strategy=\"steps\",\n",
    "#     eval_steps=500,\n",
    "#     per_device_train_batch_size=8,\n",
    "#     per_device_eval_batch_size=8,\n",
    "#     num_train_epochs=3,\n",
    "#     seed=0,\n",
    "#     load_best_model_at_end=True,\n",
    "# )\n",
    "# trainer = Trainer(\n",
    "#     model=model,\n",
    "#     args=args,\n",
    "#     train_dataset=train_dataset,\n",
    "#     eval_dataset=val_dataset,\n",
    "#     compute_metrics=compute_metrics,\n",
    "#     callbacks=[EarlyStoppingCallback(early_stopping_patience=3)],\n",
    "# )\n",
    "\n",
    "# # Train pre-trained model\n",
    "# trainer.train()\n",
    "\n",
    "# # ----- 3. Predict -----#\n",
    "# # Load test data\n",
    "# test_data = pd.read_csv(\"test.csv\")\n",
    "# X_test = list(test_data[\"review\"])\n",
    "# X_test_tokenized = tokenizer(X_test, padding=True, truncation=True, max_length=512)\n",
    "\n",
    "# # Create torch dataset\n",
    "# test_dataset = Dataset(X_test_tokenized)\n",
    "\n",
    "# # Load trained model\n",
    "# model_path = \"output/checkpoint-50000\"\n",
    "# model = BertForSequenceClassification.from_pretrained(model_path, num_labels=1)\n",
    "\n",
    "# # Define test trainer\n",
    "# test_trainer = Trainer(model)\n",
    "\n",
    "# # Make prediction\n",
    "# raw_pred, _, _ = test_trainer.predict(test_dataset)\n",
    "\n",
    "# # Preprocess raw predictions\n",
    "# y_pred = np.argmax(raw_pred, axis=1)"
   ]
  }
 ],
 "metadata": {
  "kernelspec": {
   "display_name": "newenvt",
   "language": "python",
   "name": "newenvt"
  },
  "language_info": {
   "codemirror_mode": {
    "name": "ipython",
    "version": 3
   },
   "file_extension": ".py",
   "mimetype": "text/x-python",
   "name": "python",
   "nbconvert_exporter": "python",
   "pygments_lexer": "ipython3",
   "version": "3.7.11"
  }
 },
 "nbformat": 4,
 "nbformat_minor": 5
}
