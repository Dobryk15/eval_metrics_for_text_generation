{
 "cells": [
  {
   "cell_type": "markdown",
   "id": "cede6b39",
   "metadata": {},
   "source": [
    "### Feature selection with sklearn"
   ]
  },
  {
   "cell_type": "markdown",
   "id": "e32e9c43",
   "metadata": {},
   "source": [
    "__univariate-feature-selection__:   \n",
    "\n",
    "https://scikit-learn.org/stable/modules/feature_selection.html#univariate-feature-selection "
   ]
  },
  {
   "cell_type": "code",
   "execution_count": null,
   "id": "67e9218a",
   "metadata": {},
   "outputs": [],
   "source": [
    "from sklearn.linear_model import LinearRegression\n",
    "from sklearn.datasets import load_boston\n",
    "\n",
    "boston = load_boston()\n",
    "X, y = boston.data, boston.target\n",
    "\n",
    "lr = LinearRegression()\n",
    "\n",
    "sfs = SFS(lr, \n",
    "          k_features=13, \n",
    "          forward=True, \n",
    "          floating=False, \n",
    "          scoring='neg_mean_squared_error',\n",
    "          cv=10)\n",
    "\n",
    "sfs = sfs.fit(X, y)\n",
    "fig = plot_sfs(sfs.get_metric_dict(), kind='std_err')\n",
    "\n",
    "plt.title('Sequential Forward Selection (w. StdErr)')\n",
    "plt.grid()\n",
    "plt.show()"
   ]
  },
  {
   "cell_type": "code",
   "execution_count": null,
   "id": "59dcb5fd",
   "metadata": {},
   "outputs": [],
   "source": []
  },
  {
   "cell_type": "markdown",
   "id": "dd985008",
   "metadata": {},
   "source": [
    "### Forward Feature selection with statsmodels\n",
    "\n",
    "https://planspace.org/20150423-forward_selection_with_statsmodels/ "
   ]
  },
  {
   "cell_type": "code",
   "execution_count": null,
   "id": "ad6ba367",
   "metadata": {},
   "outputs": [],
   "source": [
    "# It tries to optimize adjusted R-squared by adding features that \n",
    "# help the most one at a time until the score goes down or you run out of features.\n",
    "\n",
    "import statsmodels.formula.api as smf\n",
    "\n",
    "\n",
    "def forward_selected(data, response):\n",
    "    \"\"\"Linear model designed by forward selection.\n",
    "\n",
    "    Parameters:\n",
    "    -----------\n",
    "    data : pandas DataFrame with all possible predictors and response\n",
    "\n",
    "    response: string, name of response column in data\n",
    "\n",
    "    Returns:\n",
    "    --------\n",
    "    model: an \"optimal\" fitted statsmodels linear model\n",
    "           with an intercept\n",
    "           selected by forward selection\n",
    "           evaluated by adjusted R-squared\n",
    "    \"\"\"\n",
    "    remaining = set(data.columns)\n",
    "    remaining.remove(response)\n",
    "    selected = []\n",
    "    current_score, best_new_score = 0.0, 0.0\n",
    "    while remaining and current_score == best_new_score:\n",
    "        scores_with_candidates = []\n",
    "        for candidate in remaining:\n",
    "            formula = \"{} ~ {} + 1\".format(response,\n",
    "                                           ' + '.join(selected + [candidate]))\n",
    "            score = smf.ols(formula, data).fit().rsquared_adj\n",
    "            scores_with_candidates.append((score, candidate))\n",
    "        scores_with_candidates.sort()\n",
    "        best_new_score, best_candidate = scores_with_candidates.pop()\n",
    "        if current_score < best_new_score:\n",
    "            remaining.remove(best_candidate)\n",
    "            selected.append(best_candidate)\n",
    "            current_score = best_new_score\n",
    "    formula = \"{} ~ {} + 1\".format(response,\n",
    "                                   ' + '.join(selected))\n",
    "    model = smf.ols(formula, data).fit()\n",
    "    return model\n",
    "\n",
    "\n",
    "# Example of application\n",
    "import pandas as pd\n",
    "\n",
    "url = \"http://data.princeton.edu/wws509/datasets/salary.dat\"\n",
    "data = pd.read_csv(url, sep='\\\\s+')\n",
    "\n",
    "model = forward_selected(data, 'sl')\n",
    "\n",
    "print model.model.formula\n",
    "# sl ~ rk + yr + 1\n",
    "\n",
    "print model.rsquared_adj\n",
    "# 0.835190760538"
   ]
  }
 ],
 "metadata": {
  "kernelspec": {
   "display_name": "newenvt",
   "language": "python",
   "name": "newenvt"
  },
  "language_info": {
   "codemirror_mode": {
    "name": "ipython",
    "version": 3
   },
   "file_extension": ".py",
   "mimetype": "text/x-python",
   "name": "python",
   "nbconvert_exporter": "python",
   "pygments_lexer": "ipython3",
   "version": "3.7.11"
  }
 },
 "nbformat": 4,
 "nbformat_minor": 5
}
