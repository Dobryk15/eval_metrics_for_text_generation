{
  "nbformat": 4,
  "nbformat_minor": 0,
  "metadata": {
    "colab": {
      "name": "prism.ipynb",
      "provenance": [],
      "collapsed_sections": []
    },
    "kernelspec": {
      "name": "python3",
      "display_name": "Python 3"
    },
    "language_info": {
      "name": "python"
    },
    "accelerator": "GPU",
    "gpuClass": "standard"
  },
  "cells": [
    {
      "cell_type": "markdown",
      "source": [
        "### Set up Prism"
      ],
      "metadata": {
        "id": "BGvTS6jvnXTW"
      }
    },
    {
      "cell_type": "code",
      "execution_count": null,
      "metadata": {
        "id": "T-y4yDpnpgiW"
      },
      "outputs": [],
      "source": [
        "!git clone https://github.com/thompsonb/prism"
      ]
    },
    {
      "cell_type": "code",
      "source": [
        "!cd prism"
      ],
      "metadata": {
        "id": "iaDgdnkBsl0K"
      },
      "execution_count": null,
      "outputs": []
    },
    {
      "cell_type": "code",
      "source": [
        "!pip install -r '/content/prism/requirements.txt'"
      ],
      "metadata": {
        "id": "hj6ZyiOyzfcV"
      },
      "execution_count": null,
      "outputs": []
    },
    {
      "cell_type": "code",
      "source": [
        "import sys\n",
        "sys.path.append('/prism')"
      ],
      "metadata": {
        "id": "QjM5m4Pq0i53"
      },
      "execution_count": null,
      "outputs": []
    },
    {
      "cell_type": "code",
      "source": [
        "!wget http://data.statmt.org/prism/m39v1.tar"
      ],
      "metadata": {
        "id": "AHxo4BxM2tAb"
      },
      "execution_count": null,
      "outputs": []
    },
    {
      "cell_type": "code",
      "source": [
        "!tar xf m39v1.tar"
      ],
      "metadata": {
        "id": "zX2lezYK4G5z"
      },
      "execution_count": null,
      "outputs": []
    },
    {
      "cell_type": "code",
      "source": [
        "# this setup of env variable works\n",
        "import os\n",
        "os.environ['MODEL_DIR'] = 'm39v1/'"
      ],
      "metadata": {
        "id": "MobsKYXz4d0n"
      },
      "execution_count": null,
      "outputs": []
    },
    {
      "cell_type": "code",
      "source": [
        "from prism.prism import Prism\n",
        "\n",
        "prism = Prism(model_dir=os.environ['MODEL_DIR'], lang='en')\n",
        "print('Prism identifier:', prism.identifier())"
      ],
      "metadata": {
        "id": "Nai13CZisl5h"
      },
      "execution_count": null,
      "outputs": []
    },
    {
      "cell_type": "code",
      "source": [
        "cand = ['Hi world.', 'This is a Test.']\n",
        "ref = ['Hello world.', 'This is a test.']\n",
        "src = ['Bonjour le monde.', \"C'est un test.\"]\n",
        "\n",
        "print('System-level metric:', prism.score(cand=cand, ref=ref))\n",
        "print('Segment-level metric:', prism.score(cand=cand, ref=ref, segment_scores=True))\n",
        "print('System-level QE-as-metric:', prism.score(cand=cand, src=src))\n",
        "print('Segment-level QE-as-metric:', prism.score(cand=cand, src=src, segment_scores=True))"
      ],
      "metadata": {
        "id": "56NidyFUwwI1"
      },
      "execution_count": null,
      "outputs": []
    },
    {
      "cell_type": "code",
      "source": [
        "# from prism.prism import Prism\n",
        "# prism = Prism(model_dir=os.environ['MODEL_DIR'], lang='de')\n",
        "# prism.identifier()"
      ],
      "metadata": {
        "id": "Fo8uizmW5oCp"
      },
      "execution_count": null,
      "outputs": []
    },
    {
      "cell_type": "markdown",
      "source": [
        "#### Load WMT15 data"
      ],
      "metadata": {
        "id": "v_tcmiNuf2Qq"
      }
    },
    {
      "cell_type": "code",
      "source": [
        "import pandas as pd\n",
        "import pickle"
      ],
      "metadata": {
        "id": "GkOdzcHLJgLn"
      },
      "execution_count": null,
      "outputs": []
    },
    {
      "cell_type": "code",
      "source": [
        "with open(\"/content/mt.txt\") as f:\n",
        "    hyp_snts = [line[:-1] for line in f] # remove last symbol which is '\\n'\n",
        "\n",
        "with open(\"/content/reference.txt\") as f:\n",
        "    ref_snts = [line[:-1] for line in f]\n",
        "\n",
        "with open(\"/content/source.txt\") as f:\n",
        "    src_snts = [line[:-1] for line in f]\n",
        "\n",
        "with open(\"/content/newstest2015.human.de-en\") as f:\n",
        "    human_scores = [float(line[:-1]) for line in f] "
      ],
      "metadata": {
        "id": "s8bd7TAMJkeC"
      },
      "execution_count": null,
      "outputs": []
    },
    {
      "cell_type": "markdown",
      "source": [
        "### Load WMT21 data"
      ],
      "metadata": {
        "id": "f8TBqAnQnpdr"
      }
    },
    {
      "cell_type": "code",
      "source": [
        "with open('/content/all_ref_snts_21.pickle', 'rb') as fp:\n",
        "    ref_snts = pickle.load(fp)\n",
        "\n",
        "with open('/content/all_mt_snts_21.pickle', 'rb') as fp:\n",
        "    hyps_snts = pickle.load(fp)\n",
        "\n",
        "with open('/content/all_src_snts_21.pickle', 'rb') as fp:\n",
        "    src_snts = pickle.load(fp)"
      ],
      "metadata": {
        "id": "g29DnHn1jLFZ"
      },
      "execution_count": null,
      "outputs": []
    },
    {
      "cell_type": "code",
      "source": [
        "len(ref_snts), len(hyp_snts), len(src_snts)"
      ],
      "metadata": {
        "id": "nw8Hp-2MrB1B"
      },
      "execution_count": null,
      "outputs": []
    },
    {
      "cell_type": "code",
      "source": [
        "# Metrics: prism_ref, prism_src\n",
        "\n",
        "ref_metric_scores = prism.score(cand=hyp_snts, ref=ref_snts, segment_scores=True)\n",
        "# ref_metric_scores"
      ],
      "metadata": {
        "id": "ScBRD9__EAMI"
      },
      "execution_count": null,
      "outputs": []
    },
    {
      "cell_type": "code",
      "source": [
        "src_metric_scores = prism.score(cand=hyp_snts, src=src_snts, segment_scores=True)\n",
        "# src_metric_scores"
      ],
      "metadata": {
        "id": "FqpYU1A8LLIX"
      },
      "execution_count": null,
      "outputs": []
    },
    {
      "cell_type": "code",
      "source": [
        "prism_scores = pd.DataFrame({'prism_ref': ref_metric_scores, 'prism_src': src_metric_scores})\n",
        "prism_scores"
      ],
      "metadata": {
        "id": "YuiavQnKLw44"
      },
      "execution_count": null,
      "outputs": []
    },
    {
      "cell_type": "code",
      "source": [
        "with open('prism_scores_wmt15_long_form.pickle', 'wb') as f:\n",
        "    pickle.dump(prism_scores, f, pickle.HIGHEST_PROTOCOL)"
      ],
      "metadata": {
        "id": "f98Yd0QS9Ppv"
      },
      "execution_count": null,
      "outputs": []
    },
    {
      "cell_type": "code",
      "source": [
        "ref = \"I never wrote this article, I just edited it.\"\n",
        "hyp0 = \"I never wrote this article, I just edited it.\"\n",
        "hyp1 = \"It is not my article, I just edited it.\"\n",
        "hyp2 = \"I never wrote this article, I never edited it.\"\n",
        "\n",
        "prism_ref_example = [-0.159257, -1.621714, -1.331593]\n",
        "\n",
        "print(f'Reference:\\t{ref}')\n",
        "print(f'Hypothesis 0:\\t{hyp0}')\n",
        "print(f'Hypothesis 1:\\t{hyp1}')\n",
        "print(f'Hypothesis 2:\\t{hyp2}\\n')\n",
        "\n",
        "print(f'Prism score for hyp0:\\t{prism_ref_example[0]}')\n",
        "print(f'Prism score for hyp1:\\t{prism_ref_example[1]}')\n",
        "print(f'Prism score for hyp2:\\t{prism_ref_example[2]}')"
      ],
      "metadata": {
        "id": "OIJ7IFI6OjzB",
        "colab": {
          "base_uri": "https://localhost:8080/"
        },
        "outputId": "e8d948f3-632c-4f36-921c-f1921fd92744"
      },
      "execution_count": null,
      "outputs": [
        {
          "output_type": "execute_result",
          "data": {
            "text/plain": [
              "[-0.15925716, -1.621714, -1.3315935]"
            ]
          },
          "metadata": {},
          "execution_count": 44
        }
      ]
    },
    {
      "cell_type": "code",
      "source": [
        "prism_scores['human'] = human_scores\n",
        "prism_scores = prism_scores[['human', 'prism_ref',\t'prism_src']]"
      ],
      "metadata": {
        "id": "s9aB-VFWpe-6"
      },
      "execution_count": null,
      "outputs": []
    },
    {
      "cell_type": "code",
      "source": [
        "import matplotlib.pyplot as plt\n",
        "import seaborn as sns\n",
        "\n",
        "sns.set(rc={'figure.figsize':(15, 1)})\n",
        "sns.set(font_scale=1.9)\n",
        "\n",
        "m = prism_scores.corr().round(4)[:1]\n",
        "\n",
        "fig = sns.heatmap(m, annot=True, vmax=1, vmin=-1, center=0, cmap='vlag', annot_kws={\"size\": 16},\n",
        "                 cbar_kws={'fraction' : 0.1}, linewidth=4)\n",
        "\n",
        "fig.set_xticklabels(fig.get_xticklabels(), rotation=35, horizontalalignment='right')\n",
        "fig.set_yticklabels(fig.get_yticklabels(), rotation=0, horizontalalignment='right')\n",
        "plt.show()"
      ],
      "metadata": {
        "id": "Hqq8-Eyoprvz"
      },
      "execution_count": null,
      "outputs": []
    }
  ]
}