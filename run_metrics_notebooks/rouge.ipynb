{
  "cells": [
    {
      "cell_type": "code",
      "execution_count": null,
      "metadata": {
        "id": "eVE4DVt77qRs"
      },
      "outputs": [],
      "source": [
        "!pip install sacrerouge"
      ]
    },
    {
      "cell_type": "code",
      "source": [
        "!pip install urllib3==1.25.10"
      ],
      "metadata": {
        "id": "6ia1Qo81ge6e"
      },
      "execution_count": null,
      "outputs": []
    },
    {
      "cell_type": "code",
      "source": [
        "!apt install libxml-dom-perl\n",
        "!sacrerouge setup-metric rouge"
      ],
      "metadata": {
        "id": "4Lzu4RYSg3nJ"
      },
      "execution_count": null,
      "outputs": []
    },
    {
      "cell_type": "code",
      "source": [
        "import pickle\n",
        "import pandas as pd\n",
        "import numpy as np"
      ],
      "metadata": {
        "id": "q8CFUMtAgZKq"
      },
      "execution_count": 4,
      "outputs": []
    },
    {
      "cell_type": "markdown",
      "source": [
        "**Load WMT15 data**"
      ],
      "metadata": {
        "id": "a7GtTg1DgFQ0"
      }
    },
    {
      "cell_type": "code",
      "source": [
        "data_preproc = 'tokenized_and_lowercase'"
      ],
      "metadata": {
        "id": "u19JswMAj2Aa"
      },
      "execution_count": 13,
      "outputs": []
    },
    {
      "cell_type": "code",
      "source": [
        "data_type = 'wmt15'\n",
        "with open(\"/content/mt.txt\") as f:\n",
        "    hyp_snts = [line[:-1] for line in f] # remove last symbol which is '\\n'\n",
        "\n",
        "with open(\"/content/reference.txt\") as f:\n",
        "    ref_snts = [line[:-1] for line in f]\n",
        "\n",
        "with open(\"/content/newstest2015.human.de-en\") as f:\n",
        "    human_scores = [float(line[:-1]) for line in f] "
      ],
      "metadata": {
        "id": "ZliT4q5MF-5k"
      },
      "execution_count": 12,
      "outputs": []
    },
    {
      "cell_type": "markdown",
      "source": [
        "**Load WMT21 data**"
      ],
      "metadata": {
        "id": "NRnRAx6WgMh1"
      }
    },
    {
      "cell_type": "code",
      "source": [
        "data_type = 'wmt21'\n",
        "with open('/content/all_ref_snts_21.pickle', 'rb') as fp:\n",
        "    ref_snts = pickle.load(fp)\n",
        "\n",
        "with open('/content/all_mt_snts_21.pickle', 'rb') as fp:\n",
        "    hyp_snts = pickle.load(fp)\n",
        "\n",
        "with open('/content/all_src_snts_21.pickle', 'rb') as fp:\n",
        "    src_snts = pickle.load(fp)"
      ],
      "metadata": {
        "id": "2xzKAztgGzTl"
      },
      "execution_count": null,
      "outputs": []
    },
    {
      "cell_type": "code",
      "source": [
        "# check the ROUGE output format\n",
        "\n",
        "from sacrerouge.metrics import Rouge\n",
        "metric = Rouge(compute_rouge_l=True, remove_stopwords=False) #  remove_stopwords = True (False by default and performs better)\n",
        "\n",
        "scores = metric.score(hyp_snts[0], [ref_snts[0]])\n",
        "scores"
      ],
      "metadata": {
        "id": "1dtXaR5ehXIC"
      },
      "execution_count": null,
      "outputs": []
    },
    {
      "cell_type": "code",
      "source": [
        "# run ROUGE on all data\n",
        "\n",
        "rouge1_f1 = []\n",
        "rouge1_p = []\n",
        "rouge1_r = []\n",
        "rougel_f1 = []\n",
        "\n",
        "# The score function expects a list of reference summaries, so `reference` is\n",
        "# wrapped in a list\n",
        "for i, reference in enumerate(ref_snts):\n",
        "    scores = metric.score(hyp_snts[i], [reference])\n",
        "    rouge1_f1.append(scores['rouge-1']['f1'])\n",
        "    rouge1_p.append(scores['rouge-1']['precision'])\n",
        "    rouge1_r.append(scores['rouge-1']['recall'])\n",
        "    rougel_f1.append(scores['rouge-l']['f1'])"
      ],
      "metadata": {
        "id": "PXxFThVjfJIY"
      },
      "execution_count": 35,
      "outputs": []
    },
    {
      "cell_type": "code",
      "source": [
        "all_rouge_scores = {}\n",
        "all_rouge_scores[\"rouge1_f1\"] = rouge1_f1\n",
        "all_rouge_scores[\"rouge1_p\"] = rouge1_p\n",
        "all_rouge_scores[\"rouge1_r\"] = rouge1_r\n",
        "all_rouge_scores[\"rougel_f1\"] = rougel_f1"
      ],
      "metadata": {
        "id": "mgiUk1nUdpbB"
      },
      "execution_count": 36,
      "outputs": []
    },
    {
      "cell_type": "code",
      "source": [
        "scores_dict = {'human': human_scores}\n",
        "scores_dict.update(all_rouge_scores)\n",
        "metric_scores = pd.DataFrame(scores_dict)"
      ],
      "metadata": {
        "id": "PYH6hBM7lCVs"
      },
      "execution_count": 37,
      "outputs": []
    },
    {
      "cell_type": "code",
      "source": [
        "# stopwords removed\n",
        "metric_scores.corr()"
      ],
      "metadata": {
        "colab": {
          "base_uri": "https://localhost:8080/",
          "height": 206
        },
        "id": "6xvJU3canj91",
        "outputId": "9eacc840-cc1d-49f9-9811-4d58fd146730"
      },
      "execution_count": 38,
      "outputs": [
        {
          "output_type": "execute_result",
          "data": {
            "text/plain": [
              "              human  rouge1_f1  rouge1_p  rouge1_r  rougel_f1\n",
              "human      1.000000   0.451041  0.408538  0.463725   0.488308\n",
              "rouge1_f1  0.451041   1.000000  0.971387  0.975379   0.934573\n",
              "rouge1_p   0.408538   0.971387  1.000000  0.898899   0.900715\n",
              "rouge1_r   0.463725   0.975379  0.898899  1.000000   0.919439\n",
              "rougel_f1  0.488308   0.934573  0.900715  0.919439   1.000000"
            ],
            "text/html": [
              "\n",
              "  <div id=\"df-6290a7ea-2dce-4151-8e6c-7274fd972a98\">\n",
              "    <div class=\"colab-df-container\">\n",
              "      <div>\n",
              "<style scoped>\n",
              "    .dataframe tbody tr th:only-of-type {\n",
              "        vertical-align: middle;\n",
              "    }\n",
              "\n",
              "    .dataframe tbody tr th {\n",
              "        vertical-align: top;\n",
              "    }\n",
              "\n",
              "    .dataframe thead th {\n",
              "        text-align: right;\n",
              "    }\n",
              "</style>\n",
              "<table border=\"1\" class=\"dataframe\">\n",
              "  <thead>\n",
              "    <tr style=\"text-align: right;\">\n",
              "      <th></th>\n",
              "      <th>human</th>\n",
              "      <th>rouge1_f1</th>\n",
              "      <th>rouge1_p</th>\n",
              "      <th>rouge1_r</th>\n",
              "      <th>rougel_f1</th>\n",
              "    </tr>\n",
              "  </thead>\n",
              "  <tbody>\n",
              "    <tr>\n",
              "      <th>human</th>\n",
              "      <td>1.000000</td>\n",
              "      <td>0.451041</td>\n",
              "      <td>0.408538</td>\n",
              "      <td>0.463725</td>\n",
              "      <td>0.488308</td>\n",
              "    </tr>\n",
              "    <tr>\n",
              "      <th>rouge1_f1</th>\n",
              "      <td>0.451041</td>\n",
              "      <td>1.000000</td>\n",
              "      <td>0.971387</td>\n",
              "      <td>0.975379</td>\n",
              "      <td>0.934573</td>\n",
              "    </tr>\n",
              "    <tr>\n",
              "      <th>rouge1_p</th>\n",
              "      <td>0.408538</td>\n",
              "      <td>0.971387</td>\n",
              "      <td>1.000000</td>\n",
              "      <td>0.898899</td>\n",
              "      <td>0.900715</td>\n",
              "    </tr>\n",
              "    <tr>\n",
              "      <th>rouge1_r</th>\n",
              "      <td>0.463725</td>\n",
              "      <td>0.975379</td>\n",
              "      <td>0.898899</td>\n",
              "      <td>1.000000</td>\n",
              "      <td>0.919439</td>\n",
              "    </tr>\n",
              "    <tr>\n",
              "      <th>rougel_f1</th>\n",
              "      <td>0.488308</td>\n",
              "      <td>0.934573</td>\n",
              "      <td>0.900715</td>\n",
              "      <td>0.919439</td>\n",
              "      <td>1.000000</td>\n",
              "    </tr>\n",
              "  </tbody>\n",
              "</table>\n",
              "</div>\n",
              "      <button class=\"colab-df-convert\" onclick=\"convertToInteractive('df-6290a7ea-2dce-4151-8e6c-7274fd972a98')\"\n",
              "              title=\"Convert this dataframe to an interactive table.\"\n",
              "              style=\"display:none;\">\n",
              "        \n",
              "  <svg xmlns=\"http://www.w3.org/2000/svg\" height=\"24px\"viewBox=\"0 0 24 24\"\n",
              "       width=\"24px\">\n",
              "    <path d=\"M0 0h24v24H0V0z\" fill=\"none\"/>\n",
              "    <path d=\"M18.56 5.44l.94 2.06.94-2.06 2.06-.94-2.06-.94-.94-2.06-.94 2.06-2.06.94zm-11 1L8.5 8.5l.94-2.06 2.06-.94-2.06-.94L8.5 2.5l-.94 2.06-2.06.94zm10 10l.94 2.06.94-2.06 2.06-.94-2.06-.94-.94-2.06-.94 2.06-2.06.94z\"/><path d=\"M17.41 7.96l-1.37-1.37c-.4-.4-.92-.59-1.43-.59-.52 0-1.04.2-1.43.59L10.3 9.45l-7.72 7.72c-.78.78-.78 2.05 0 2.83L4 21.41c.39.39.9.59 1.41.59.51 0 1.02-.2 1.41-.59l7.78-7.78 2.81-2.81c.8-.78.8-2.07 0-2.86zM5.41 20L4 18.59l7.72-7.72 1.47 1.35L5.41 20z\"/>\n",
              "  </svg>\n",
              "      </button>\n",
              "      \n",
              "  <style>\n",
              "    .colab-df-container {\n",
              "      display:flex;\n",
              "      flex-wrap:wrap;\n",
              "      gap: 12px;\n",
              "    }\n",
              "\n",
              "    .colab-df-convert {\n",
              "      background-color: #E8F0FE;\n",
              "      border: none;\n",
              "      border-radius: 50%;\n",
              "      cursor: pointer;\n",
              "      display: none;\n",
              "      fill: #1967D2;\n",
              "      height: 32px;\n",
              "      padding: 0 0 0 0;\n",
              "      width: 32px;\n",
              "    }\n",
              "\n",
              "    .colab-df-convert:hover {\n",
              "      background-color: #E2EBFA;\n",
              "      box-shadow: 0px 1px 2px rgba(60, 64, 67, 0.3), 0px 1px 3px 1px rgba(60, 64, 67, 0.15);\n",
              "      fill: #174EA6;\n",
              "    }\n",
              "\n",
              "    [theme=dark] .colab-df-convert {\n",
              "      background-color: #3B4455;\n",
              "      fill: #D2E3FC;\n",
              "    }\n",
              "\n",
              "    [theme=dark] .colab-df-convert:hover {\n",
              "      background-color: #434B5C;\n",
              "      box-shadow: 0px 1px 3px 1px rgba(0, 0, 0, 0.15);\n",
              "      filter: drop-shadow(0px 1px 2px rgba(0, 0, 0, 0.3));\n",
              "      fill: #FFFFFF;\n",
              "    }\n",
              "  </style>\n",
              "\n",
              "      <script>\n",
              "        const buttonEl =\n",
              "          document.querySelector('#df-6290a7ea-2dce-4151-8e6c-7274fd972a98 button.colab-df-convert');\n",
              "        buttonEl.style.display =\n",
              "          google.colab.kernel.accessAllowed ? 'block' : 'none';\n",
              "\n",
              "        async function convertToInteractive(key) {\n",
              "          const element = document.querySelector('#df-6290a7ea-2dce-4151-8e6c-7274fd972a98');\n",
              "          const dataTable =\n",
              "            await google.colab.kernel.invokeFunction('convertToInteractive',\n",
              "                                                     [key], {});\n",
              "          if (!dataTable) return;\n",
              "\n",
              "          const docLinkHtml = 'Like what you see? Visit the ' +\n",
              "            '<a target=\"_blank\" href=https://colab.research.google.com/notebooks/data_table.ipynb>data table notebook</a>'\n",
              "            + ' to learn more about interactive tables.';\n",
              "          element.innerHTML = '';\n",
              "          dataTable['output_type'] = 'display_data';\n",
              "          await google.colab.output.renderOutput(dataTable, element);\n",
              "          const docLink = document.createElement('div');\n",
              "          docLink.innerHTML = docLinkHtml;\n",
              "          element.appendChild(docLink);\n",
              "        }\n",
              "      </script>\n",
              "    </div>\n",
              "  </div>\n",
              "  "
            ]
          },
          "metadata": {},
          "execution_count": 38
        }
      ]
    },
    {
      "cell_type": "code",
      "source": [
        "# stopwords are kept\n",
        "metric_scores.corr()"
      ],
      "metadata": {
        "colab": {
          "base_uri": "https://localhost:8080/",
          "height": 206
        },
        "id": "LYQT1zIFlR0l",
        "outputId": "9fdf3bb2-e693-4d0a-abc0-ce9a1eae46bb"
      },
      "execution_count": 27,
      "outputs": [
        {
          "output_type": "execute_result",
          "data": {
            "text/plain": [
              "              human  rouge1_f1  rouge1_p  rouge1_r  rougel_f1\n",
              "human      1.000000   0.583409  0.542574  0.571295   0.613401\n",
              "rouge1_f1  0.583409   1.000000  0.948851  0.955887   0.907558\n",
              "rouge1_p   0.542574   0.948851  1.000000  0.818325   0.862849\n",
              "rouge1_r   0.571295   0.955887  0.818325  1.000000   0.867353\n",
              "rougel_f1  0.613401   0.907558  0.862849  0.867353   1.000000"
            ],
            "text/html": [
              "\n",
              "  <div id=\"df-b7beb466-ac25-456e-ac8d-bef5bbbc9c5d\">\n",
              "    <div class=\"colab-df-container\">\n",
              "      <div>\n",
              "<style scoped>\n",
              "    .dataframe tbody tr th:only-of-type {\n",
              "        vertical-align: middle;\n",
              "    }\n",
              "\n",
              "    .dataframe tbody tr th {\n",
              "        vertical-align: top;\n",
              "    }\n",
              "\n",
              "    .dataframe thead th {\n",
              "        text-align: right;\n",
              "    }\n",
              "</style>\n",
              "<table border=\"1\" class=\"dataframe\">\n",
              "  <thead>\n",
              "    <tr style=\"text-align: right;\">\n",
              "      <th></th>\n",
              "      <th>human</th>\n",
              "      <th>rouge1_f1</th>\n",
              "      <th>rouge1_p</th>\n",
              "      <th>rouge1_r</th>\n",
              "      <th>rougel_f1</th>\n",
              "    </tr>\n",
              "  </thead>\n",
              "  <tbody>\n",
              "    <tr>\n",
              "      <th>human</th>\n",
              "      <td>1.000000</td>\n",
              "      <td>0.583409</td>\n",
              "      <td>0.542574</td>\n",
              "      <td>0.571295</td>\n",
              "      <td>0.613401</td>\n",
              "    </tr>\n",
              "    <tr>\n",
              "      <th>rouge1_f1</th>\n",
              "      <td>0.583409</td>\n",
              "      <td>1.000000</td>\n",
              "      <td>0.948851</td>\n",
              "      <td>0.955887</td>\n",
              "      <td>0.907558</td>\n",
              "    </tr>\n",
              "    <tr>\n",
              "      <th>rouge1_p</th>\n",
              "      <td>0.542574</td>\n",
              "      <td>0.948851</td>\n",
              "      <td>1.000000</td>\n",
              "      <td>0.818325</td>\n",
              "      <td>0.862849</td>\n",
              "    </tr>\n",
              "    <tr>\n",
              "      <th>rouge1_r</th>\n",
              "      <td>0.571295</td>\n",
              "      <td>0.955887</td>\n",
              "      <td>0.818325</td>\n",
              "      <td>1.000000</td>\n",
              "      <td>0.867353</td>\n",
              "    </tr>\n",
              "    <tr>\n",
              "      <th>rougel_f1</th>\n",
              "      <td>0.613401</td>\n",
              "      <td>0.907558</td>\n",
              "      <td>0.862849</td>\n",
              "      <td>0.867353</td>\n",
              "      <td>1.000000</td>\n",
              "    </tr>\n",
              "  </tbody>\n",
              "</table>\n",
              "</div>\n",
              "      <button class=\"colab-df-convert\" onclick=\"convertToInteractive('df-b7beb466-ac25-456e-ac8d-bef5bbbc9c5d')\"\n",
              "              title=\"Convert this dataframe to an interactive table.\"\n",
              "              style=\"display:none;\">\n",
              "        \n",
              "  <svg xmlns=\"http://www.w3.org/2000/svg\" height=\"24px\"viewBox=\"0 0 24 24\"\n",
              "       width=\"24px\">\n",
              "    <path d=\"M0 0h24v24H0V0z\" fill=\"none\"/>\n",
              "    <path d=\"M18.56 5.44l.94 2.06.94-2.06 2.06-.94-2.06-.94-.94-2.06-.94 2.06-2.06.94zm-11 1L8.5 8.5l.94-2.06 2.06-.94-2.06-.94L8.5 2.5l-.94 2.06-2.06.94zm10 10l.94 2.06.94-2.06 2.06-.94-2.06-.94-.94-2.06-.94 2.06-2.06.94z\"/><path d=\"M17.41 7.96l-1.37-1.37c-.4-.4-.92-.59-1.43-.59-.52 0-1.04.2-1.43.59L10.3 9.45l-7.72 7.72c-.78.78-.78 2.05 0 2.83L4 21.41c.39.39.9.59 1.41.59.51 0 1.02-.2 1.41-.59l7.78-7.78 2.81-2.81c.8-.78.8-2.07 0-2.86zM5.41 20L4 18.59l7.72-7.72 1.47 1.35L5.41 20z\"/>\n",
              "  </svg>\n",
              "      </button>\n",
              "      \n",
              "  <style>\n",
              "    .colab-df-container {\n",
              "      display:flex;\n",
              "      flex-wrap:wrap;\n",
              "      gap: 12px;\n",
              "    }\n",
              "\n",
              "    .colab-df-convert {\n",
              "      background-color: #E8F0FE;\n",
              "      border: none;\n",
              "      border-radius: 50%;\n",
              "      cursor: pointer;\n",
              "      display: none;\n",
              "      fill: #1967D2;\n",
              "      height: 32px;\n",
              "      padding: 0 0 0 0;\n",
              "      width: 32px;\n",
              "    }\n",
              "\n",
              "    .colab-df-convert:hover {\n",
              "      background-color: #E2EBFA;\n",
              "      box-shadow: 0px 1px 2px rgba(60, 64, 67, 0.3), 0px 1px 3px 1px rgba(60, 64, 67, 0.15);\n",
              "      fill: #174EA6;\n",
              "    }\n",
              "\n",
              "    [theme=dark] .colab-df-convert {\n",
              "      background-color: #3B4455;\n",
              "      fill: #D2E3FC;\n",
              "    }\n",
              "\n",
              "    [theme=dark] .colab-df-convert:hover {\n",
              "      background-color: #434B5C;\n",
              "      box-shadow: 0px 1px 3px 1px rgba(0, 0, 0, 0.15);\n",
              "      filter: drop-shadow(0px 1px 2px rgba(0, 0, 0, 0.3));\n",
              "      fill: #FFFFFF;\n",
              "    }\n",
              "  </style>\n",
              "\n",
              "      <script>\n",
              "        const buttonEl =\n",
              "          document.querySelector('#df-b7beb466-ac25-456e-ac8d-bef5bbbc9c5d button.colab-df-convert');\n",
              "        buttonEl.style.display =\n",
              "          google.colab.kernel.accessAllowed ? 'block' : 'none';\n",
              "\n",
              "        async function convertToInteractive(key) {\n",
              "          const element = document.querySelector('#df-b7beb466-ac25-456e-ac8d-bef5bbbc9c5d');\n",
              "          const dataTable =\n",
              "            await google.colab.kernel.invokeFunction('convertToInteractive',\n",
              "                                                     [key], {});\n",
              "          if (!dataTable) return;\n",
              "\n",
              "          const docLinkHtml = 'Like what you see? Visit the ' +\n",
              "            '<a target=\"_blank\" href=https://colab.research.google.com/notebooks/data_table.ipynb>data table notebook</a>'\n",
              "            + ' to learn more about interactive tables.';\n",
              "          element.innerHTML = '';\n",
              "          dataTable['output_type'] = 'display_data';\n",
              "          await google.colab.output.renderOutput(dataTable, element);\n",
              "          const docLink = document.createElement('div');\n",
              "          docLink.innerHTML = docLinkHtml;\n",
              "          element.appendChild(docLink);\n",
              "        }\n",
              "      </script>\n",
              "    </div>\n",
              "  </div>\n",
              "  "
            ]
          },
          "metadata": {},
          "execution_count": 27
        }
      ]
    },
    {
      "cell_type": "code",
      "source": [
        "with open(f'all_rouge_scores_{data_type}_{data_preproc}.pickle', 'wb') as f:\n",
        "    pickle.dump(all_rouge_scores, f, pickle.HIGHEST_PROTOCOL)"
      ],
      "metadata": {
        "id": "b2ORrxLdH0gT"
      },
      "execution_count": 30,
      "outputs": []
    }
  ],
  "metadata": {
    "accelerator": "GPU",
    "colab": {
      "name": "SacreRouge.ipynb",
      "provenance": [],
      "collapsed_sections": []
    },
    "kernelspec": {
      "display_name": "Python 3",
      "name": "python3"
    },
    "language_info": {
      "name": "python"
    }
  },
  "nbformat": 4,
  "nbformat_minor": 0
}